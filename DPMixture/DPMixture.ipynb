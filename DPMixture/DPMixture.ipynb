{
 "cells": [
  {
   "cell_type": "code",
   "execution_count": 1,
   "metadata": {},
   "outputs": [],
   "source": [
    "import os\n",
    "import sys\n",
    "import glob\n",
    "import matplotlib.pyplot as plt\n",
    "import numpy as np\n",
    "import pandas as pd\n",
    "from scipy.stats import multivariate_normal,beta,dirichlet\n",
    "from math import log\n",
    "%matplotlib inline\n",
    "plt.style.use('ggplot')\n",
    "np.random.seed(1234)\n",
    "from scipy.special import gamma\n",
    "import ternary\n",
    "\n",
    "\n",
    "np.set_printoptions(formatter={'all':lambda x: '%.3f' % x})"
   ]
  },
  {
   "cell_type": "code",
   "execution_count": 3,
   "metadata": {},
   "outputs": [],
   "source": [
    "a1 = 50\n",
    "a2 = 50\n",
    "a3 = 50\n",
    "beta = gamma(a1)*gamma(a2)*gamma(a3)/gamma(a1+a2+a3)"
   ]
  },
  {
   "cell_type": "code",
   "execution_count": 8,
   "metadata": {},
   "outputs": [],
   "source": [
    "x0 = np.linspace(0,1,num=100)\n",
    "x1 = x0\n",
    "x2 = x0\n",
    "x3 = x0\n",
    "# y = np.zeros((len(x1),len(x2),len(x3)))\n",
    "y = dict()\n"
   ]
  },
  {
   "cell_type": "code",
   "execution_count": null,
   "metadata": {},
   "outputs": [],
   "source": [
    "# start = 0\n",
    "# scale = 10\n",
    "# for i in range(start, scale + (1 - start)):\n",
    "#     for j in range(start, scale + (1 - start) - i):\n",
    "#         k = scale - i - j\n",
    "#         print(i, j, k)"
   ]
  },
  {
   "cell_type": "code",
   "execution_count": 25,
   "metadata": {},
   "outputs": [],
   "source": [
    "for i in range(len(x1)):\n",
    "    for j in range(len(x2)):\n",
    "        for k in range(len(x3)):\n",
    "            if np.absolute(x1[i]+x2[j]+x3[k]-1)<1e-5:\n",
    "                # print(i,j,k)\n",
    "                y[(x1[i], x2[j])] = x1[i]**(a1-1) * x2[j]**(a2-1) * x3[k]**(a3-1)/beta"
   ]
  },
  {
   "cell_type": "code",
   "execution_count": 5,
   "metadata": {},
   "outputs": [],
   "source": [
    "def f(x):\n",
    "    return x[0]**(a1-1) * x[1]**(a2-1) * x[2]**(a3-1)/beta"
   ]
  },
  {
   "cell_type": "code",
   "execution_count": null,
   "metadata": {},
   "outputs": [],
   "source": [
    "scale = 60\n",
    "fig, tax = ternary.figure(scale=scale)\n",
    "tax.heatmapf(f,scale=scale)"
   ]
  },
  {
   "cell_type": "code",
   "execution_count": null,
   "metadata": {},
   "outputs": [],
   "source": [
    "# def shannon_entropy(p):\n",
    "#     \"\"\"Computes the Shannon Entropy at a distribution in the simplex.\"\"\"\n",
    "#     s = 0.\n",
    "#     for i in range(len(p)):\n",
    "#         try:\n",
    "#             s += p[i] * log(p[i])\n",
    "#         except ValueError:\n",
    "#             continue\n",
    "#     return -1.*s\n",
    "# scale = 60\n",
    "\n",
    "# figure, tax = ternary.figure(scale=scale)\n",
    "# tax.heatmapf(shannon_entropy, boundary=True, style=\"triangular\")\n",
    "# tax.boundary(linewidth=2.0)\n",
    "# tax.set_title(\"Shannon Entropy Heatmap\")\n",
    "\n",
    "# tax.show()"
   ]
  },
  {
   "cell_type": "code",
   "execution_count": 2,
   "metadata": {},
   "outputs": [],
   "source": []
  },
  {
   "cell_type": "code",
   "execution_count": null,
   "metadata": {},
   "outputs": [],
   "source": []
  },
  {
   "cell_type": "code",
   "execution_count": 7,
   "metadata": {},
   "outputs": [],
   "source": []
  },
  {
   "cell_type": "code",
   "execution_count": null,
   "metadata": {},
   "outputs": [],
   "source": []
  },
  {
   "cell_type": "markdown",
   "metadata": {},
   "source": []
  },
  {
   "cell_type": "code",
   "execution_count": null,
   "metadata": {},
   "outputs": [],
   "source": []
  },
  {
   "cell_type": "code",
   "execution_count": null,
   "metadata": {},
   "outputs": [],
   "source": []
  }
 ],
 "metadata": {
  "kernelspec": {
   "display_name": "ml",
   "language": "python",
   "name": "python3"
  },
  "language_info": {
   "codemirror_mode": {
    "name": "ipython",
    "version": 3
   },
   "file_extension": ".py",
   "mimetype": "text/x-python",
   "name": "python",
   "nbconvert_exporter": "python",
   "pygments_lexer": "ipython3",
   "version": "3.10.13"
  }
 },
 "nbformat": 4,
 "nbformat_minor": 2
}
