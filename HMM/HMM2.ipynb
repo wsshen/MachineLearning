{
 "cells": [
  {
   "cell_type": "code",
   "execution_count": 1,
   "metadata": {},
   "outputs": [],
   "source": [
    "import numpy as np\n",
    "from hmmlearn import hmm\n"
   ]
  },
  {
   "cell_type": "code",
   "execution_count": 2,
   "metadata": {},
   "outputs": [],
   "source": [
    "hmm_states = 2\n",
    "\n",
    "model = hmm.CategoricalHMM(n_components=hmm_states)\n",
    "model.emissionprob_ = np.array([[0.9,0.1],[0.1,0.9]])\n",
    "model.transmat_ = np.array([[0.9,0.1],[0.1,0.9]])\n",
    "model.startprob_ = np.array([0.4,0.6])\n",
    "data,states = model.sample(n_samples = 1000,random_state=28)\n",
    "data = np.squeeze(data)"
   ]
  },
  {
   "cell_type": "code",
   "execution_count": 3,
   "metadata": {},
   "outputs": [],
   "source": [
    "# model2 = hmm.CategoricalHMM(n_components=hmm_states,n_iter=1000,implementation='log')\n",
    "# model2.fit(data.reshape(-1,1))\n",
    "# print(model2.emissionprob_,model2.startprob_,model2.transmat_)\n",
    "# # print(\"Most likely hidden states:\", hidden_states)\n"
   ]
  },
  {
   "cell_type": "code",
   "execution_count": 4,
   "metadata": {},
   "outputs": [],
   "source": [
    "# model2.monitor_.converged"
   ]
  },
  {
   "cell_type": "code",
   "execution_count": 5,
   "metadata": {},
   "outputs": [],
   "source": [
    "n_states = 2\n",
    "n_features = 2\n",
    "n_obs = data.shape[0]\n",
    "# emission = np.random.rand(n_obs,n_states)\n",
    "# emission = emission/np.tile(np.expand_dims(np.sum(emission,axis=1),axis=1),(1,2))\n",
    "\n",
    "emission = np.random.rand(n_states,n_features)\n",
    "emission = emission/np.tile(np.expand_dims(np.sum(emission,axis=1),axis=1),(1,2))\n",
    "# emission = np.array([[0.96515917, 0.03484083],\n",
    "#        [0.36020674, 0.63979326]])\n",
    "\n",
    "\n",
    "transition =  np.random.rand(n_states,n_states)\n",
    "transition = transition/np.tile(np.expand_dims(np.sum(transition,axis=1),axis=1),(1,2))\n",
    "# transition = np.array([[0.48577716, 0.51422284],\n",
    "#        [0.41604097, 0.58395903]])\n",
    "\n",
    "\n",
    "scale_factors = np.zeros((n_obs))\n",
    "forward_hat = np.zeros((n_obs,n_states))\n",
    "\n",
    "backward_hat = np.zeros((n_obs,n_states))\n",
    "\n",
    "init_prob = np.array([0.5,0.5])\n",
    "\n",
    "\n",
    "p_old = -10000\n",
    "tol = 0.01\n",
    "max_iter = 100"
   ]
  },
  {
   "cell_type": "code",
   "execution_count": 6,
   "metadata": {},
   "outputs": [
    {
     "name": "stdout",
     "output_type": "stream",
     "text": [
      "emission is [[0.43185258 0.56814742]\n",
      " [0.96066375 0.03933625]] and transition is [[0.50309097 0.49690903]\n",
      " [0.16374339 0.83625661]]\n"
     ]
    }
   ],
   "source": [
    "print(f'emission is {emission} and transition is {transition}')"
   ]
  },
  {
   "cell_type": "code",
   "execution_count": 7,
   "metadata": {},
   "outputs": [
    {
     "name": "stdout",
     "output_type": "stream",
     "text": [
      "0\n",
      "p is:-813.2131647477856,transition is [[0.65780712 0.34219288]\n",
      " [0.13444743 0.86555257]],emission is [[0.16197892 0.83802108]\n",
      " [0.92247927 0.07752073]],init is [0.9758191 0.0241809]\n",
      "1\n",
      "p is:-616.0378850367019,transition is [[0.82548846 0.17451154]\n",
      " [0.08588912 0.91411088]],emission is [[0.0956664  0.9043336 ]\n",
      " [0.90768446 0.09231554]],init is [9.99473438e-01 5.26561623e-04]\n",
      "2\n",
      "p is:-566.6570947014384,transition is [[0.92355479 0.07644521]\n",
      " [0.05075319 0.94924681]],emission is [[0.09232123 0.90767877]\n",
      " [0.88622467 0.11377533]],init is [9.99993708e-01 6.29168966e-06]\n",
      "3\n",
      "p is:-565.4667858921423,transition is [[0.96093384 0.03906616]\n",
      " [0.03319736 0.96680264]],emission is [[0.11188601 0.88811399]\n",
      " [0.86036673 0.13963327]],init is [9.99999950e-01 4.97275756e-08]\n",
      "4\n",
      "p is:-574.2635748197354,transition is [[0.97124905 0.02875095]\n",
      " [0.02763195 0.97236805]],emission is [[0.13473291 0.86526709]\n",
      " [0.8463391  0.1536609 ]],init is [1.00000000e+00 3.20991337e-10]\n",
      "5\n",
      "p is:-579.018466333699,transition is [[0.9731063  0.0268937 ]\n",
      " [0.02690091 0.97309909]],emission is [[0.15025    0.84975   ]\n",
      " [0.84259225 0.15740775]],init is [1.00000000e+00 1.97413094e-12]\n",
      "6\n",
      "p is:-579.6510999660059,transition is [[0.97300744 0.02699256]\n",
      " [0.02736539 0.97263461]],emission is [[0.15830087 0.84169913]\n",
      " [0.84337156 0.15662844]],init is [1.00000000e+00 1.24194979e-14]\n",
      "7\n",
      "p is:-579.1567354858372,transition is [[0.97272916 0.02727084]\n",
      " [0.02781805 0.97218195]],emission is [[0.16212358 0.83787642]\n",
      " [0.84530954 0.15469046]],init is [1.00000000e+00 7.99253425e-17]\n",
      "8\n",
      "p is:-578.7172439491627,transition is [[0.97259198 0.02740802]\n",
      " [0.02805108 0.97194892]],emission is [[0.16400398 0.83599602]\n",
      " [0.84703142 0.15296858]],init is [1.00000000e+00 5.17910335e-19]\n",
      "9\n",
      "p is:-578.5063832199428,transition is [[0.97256314 0.02743686]\n",
      " [0.02813446 0.97186554]],emission is [[0.16503677 0.83496323]\n",
      " [0.84823173 0.15176827]],init is [1.00000000e+00 3.34745288e-21]\n",
      "10\n",
      "p is:-578.4415745063696,transition is [[0.97257749 0.02742251]\n",
      " [0.02815212 0.97184788]],emission is [[0.16566878 0.83433122]\n",
      " [0.84898938 0.15101062]],init is [1.00000000e+00 2.15242247e-23]\n",
      "11\n",
      "p is:-578.4372876335808,transition is [[0.97259931 0.02740069]\n",
      " [0.02814969 0.97185031]],emission is [[0.16607807 0.83392193]\n",
      " [0.84944996 0.15055004]],init is [1.00000000e+00 1.37765638e-25]\n"
     ]
    }
   ],
   "source": [
    "for ite in range(max_iter):\n",
    "    print(ite)\n",
    "    forward_hat = np.zeros((n_obs,n_states))\n",
    "    backward_hat = np.zeros((n_obs,n_states))\n",
    "    scale_factors = np.zeros((n_obs))\n",
    "\n",
    "\n",
    "    forward_hat[0,:] = init_prob * emission[:,data[0]]\n",
    "    scale_factors[0] = np.sum(forward_hat[0,:])\n",
    "    forward_hat[0,:] = forward_hat[0,:]/scale_factors[0]\n",
    "    \n",
    "    for t in range(n_obs-1):\n",
    "        temp = np.matmul(forward_hat[t,:] ,transition) * emission[:,data[t+1]]\n",
    "        scale_factors[t+1] = np.sum(temp)\n",
    "        forward_hat[t+1,:] = temp/scale_factors[t+1]\n",
    "        # print(f'temp is {temp} and the scale factor is {scale_factors[t+1]} and the forward_hat is {forward_hat[t+1]}')\n",
    "\n",
    "\n",
    "    backward_hat[-1,:] = scale_factors[-1]\n",
    "    for t in reversed(range(n_obs-1)):\n",
    "        temp = np.matmul(backward_hat[t+1,:]*emission[:,data[t+1]],transition.T)\n",
    "        backward_hat[t,:] = temp/scale_factors[t]\n",
    "        \n",
    "\n",
    "\n",
    "    a = np.zeros((n_obs,n_states))\n",
    "    b = np.zeros((n_obs,n_states,n_states))\n",
    "    for i in range(n_obs):\n",
    "        for j in range(n_states):\n",
    "            a[i,j] = forward_hat[i,j]*backward_hat[i,j]\n",
    "        temp = np.sum(a[i,:])\n",
    "        a[i,:] = a[i,:]/temp\n",
    "\n",
    "    for t in range(n_obs-1):\n",
    "        for i in range(n_states):\n",
    "            for j in range(n_states):\n",
    "                b[t,i,j] = scale_factors[t+1]*forward_hat[t,i]*backward_hat[t+1,j]*transition[i,j]*emission[j,data[t+1]]\n",
    "\n",
    "    for i in range(n_states):\n",
    "        for j in range(n_states):\n",
    "            transition[i,j] = np.sum(b[0:-1,i,j])/np.sum(b[0:-1,i,:])\n",
    "            # print(np.sum(b[0:-1,i,j]),np.sum(b[0:-1,i,:]))\n",
    "\n",
    "    for i in range(n_states):\n",
    "        init_prob[i] = a[0,i]/np.sum(a[0,:])\n",
    "\n",
    "    for i in range(n_states):\n",
    "        for j in range(n_states):\n",
    "            emission[j,i] = np.sum(a[np.argwhere(data==i),j]) / np.sum(a[:,j])\n",
    "            \n",
    "    p = np.sum(np.log(scale_factors))\n",
    "    print(f'p is:{p},transition is {transition},emission is {emission},init is {init_prob}')\n",
    "    # print(f'transition prob is: {transition}')\n",
    "    # print(f'emission prob is:{emission}')\n",
    "    if p>p_old and p - p_old < tol:\n",
    "        break\n",
    "    p_old = p"
   ]
  },
  {
   "cell_type": "code",
   "execution_count": 8,
   "metadata": {},
   "outputs": [],
   "source": [
    "import sys\n",
    "np.set_printoptions(threshold=sys.maxsize)\n"
   ]
  },
  {
   "cell_type": "code",
   "execution_count": null,
   "metadata": {},
   "outputs": [],
   "source": []
  }
 ],
 "metadata": {
  "kernelspec": {
   "display_name": "ml",
   "language": "python",
   "name": "python3"
  },
  "language_info": {
   "codemirror_mode": {
    "name": "ipython",
    "version": 3
   },
   "file_extension": ".py",
   "mimetype": "text/x-python",
   "name": "python",
   "nbconvert_exporter": "python",
   "pygments_lexer": "ipython3",
   "version": "3.12.2"
  }
 },
 "nbformat": 4,
 "nbformat_minor": 2
}
