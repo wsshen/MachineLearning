{
 "cells": [
  {
   "cell_type": "code",
   "execution_count": 1,
   "metadata": {},
   "outputs": [],
   "source": [
    "import numpy as np\n",
    "# constant size\n",
    "size = 1000\n",
    "# Set p(H) apriori for simulation as a biased coin.\n",
    "p_h = 0.7\n",
    "\n",
    "# Model experiment as a single biased coin flipped 1000 times.\n",
    "data = np.random.binomial(1, p_h, size=size)"
   ]
  },
  {
   "cell_type": "code",
   "execution_count": 2,
   "metadata": {},
   "outputs": [],
   "source": [
    "n_states = 2\n",
    "n_obs = 2\n",
    "\n",
    "emission = np.array([[0.2,0.8],[0.3,0.7]])\n",
    "transition = np.array([[0.1,0.9],[0.9,0.1]])\n",
    "\n",
    "\n",
    "forward = np.random.rand(size,n_states)\n",
    "scale_factors = np.zeros((size))\n",
    "forward_hat = np.zeros((size,n_states))\n",
    "\n",
    "backward = np.random.rand(size,n_states)\n",
    "backward_hat = np.zeros((size,n_states))\n",
    "\n",
    "init_prob = np.array([0.5,0.5])\n",
    "init_obs = np.zeros(n_states)\n",
    "\n",
    "p_old = -10000\n",
    "tol = 0.001\n",
    "max_iter = 10"
   ]
  },
  {
   "cell_type": "code",
   "execution_count": null,
   "metadata": {},
   "outputs": [],
   "source": []
  },
  {
   "cell_type": "code",
   "execution_count": null,
   "metadata": {},
   "outputs": [],
   "source": [
    "# for ite in range(max_iter):\n",
    "#     forward[0,:] = init_prob * emission[:,data[0]]\n",
    "#     scale_factors[0] = np.sum(forward[0,:])\n",
    "#     forward_hat[0,:] = forward[0,:]/scale_factors[0]\n",
    "    \n",
    "#     for t in range(size-1):\n",
    "#         temp = np.matmul(forward_hat[t,:] ,transition) * emission[:,data[t]]\n",
    "#         scale_factors[t+1] = np.sum(temp)\n",
    "#         forward_hat[t+1,:] = temp/scale_factors[t+1]\n",
    "#         forward[t+1,:] = forward_hat[t+1,:]*np.prod(scale_factors[0:t+1])\n",
    "\n",
    "#     backward[-1,:] = 1\n",
    "#     backward_hat[-1,:] = backward[-1,:]\n",
    "#     for t in reversed(range(size-1)):\n",
    "#         temp = np.matmul(backward_hat[t+1,:]*emission[:,data[t+1]],np.transpose(transition))\n",
    "#         backward_hat[t,:] = temp/scale_factors[t+1]\n",
    "#         backward[t,:] = backward_hat[t,:]*np.prod(scale_factors[t+1:-1])\n",
    "\n",
    "\n",
    "#     a = np.zeros((size,n_states))\n",
    "#     b = np.zeros((size,n_states,n_states))\n",
    "#     for i in range(size):\n",
    "#         for j in range(n_states):\n",
    "#             a[i,j] = forward_hat[i,j]*backward_hat[i,j]\n",
    "#     for t in range(size-1):\n",
    "#         for i in range(n_states):\n",
    "#             for j in range(n_states):\n",
    "#                 b[t,i,j] = scale_factors[t+1]*forward_hat[t,i]*backward_hat[t+1,j]*transition[i,j]*emission[j,data[t+1]]\n",
    "\n",
    "#     for i in range(n_states):\n",
    "#         for j in range(n_states):\n",
    "#             transition[i,j] = np.sum(b[0:-1,i,j])/np.sum(b[0:-1,i,:])\n",
    "\n",
    "#     for i in range(n_states):\n",
    "#         init_prob[i] = a[0,i]/np.sum(a[0,:])\n",
    "\n",
    "#     for i in range(n_states):\n",
    "#         for j in range(n_obs):\n",
    "#             emission[i,j] = np.sum(a[np.argwhere(data==j),i]) / np.sum(a[:,i])\n",
    "            \n",
    "#     p = np.sum(np.log(scale_factors))\n",
    "#     print(f'p is:{p}')\n",
    "#     print(f'transition prob is: {transition}')\n",
    "#     print(f'emission prob is:{emission}')\n",
    "#     # if p - p_old < tol:\n",
    "#     #     break\n",
    "#     p_old = p"
   ]
  }
 ],
 "metadata": {
  "kernelspec": {
   "display_name": "ml",
   "language": "python",
   "name": "python3"
  },
  "language_info": {
   "codemirror_mode": {
    "name": "ipython",
    "version": 3
   },
   "file_extension": ".py",
   "mimetype": "text/x-python",
   "name": "python",
   "nbconvert_exporter": "python",
   "pygments_lexer": "ipython3",
   "version": "3.12.2"
  }
 },
 "nbformat": 4,
 "nbformat_minor": 2
}
