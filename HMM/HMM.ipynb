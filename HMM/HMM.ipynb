{
 "cells": [
  {
   "cell_type": "code",
   "execution_count": 58,
   "metadata": {},
   "outputs": [],
   "source": [
    "import numpy as np\n",
    "# constant size\n",
    "size = 1000\n",
    "# Set p(H) apriori for simulation as a biased coin.\n",
    "p_h = 0.1\n",
    "\n",
    "# Model experiment as a single biased coin flipped 1000 times.\n",
    "data = np.random.binomial(1, p_h, size=size)"
   ]
  },
  {
   "cell_type": "code",
   "execution_count": 59,
   "metadata": {},
   "outputs": [],
   "source": [
    "n_states = 2\n",
    "n_obs = 2\n",
    "\n",
    "emission = np.random.rand(size,n_states)\n",
    "emission = emission/np.tile(np.expand_dims(np.sum(emission,axis=1),axis=1),(1,2))\n",
    "\n",
    "transition =  np.random.rand(n_states,n_states)\n",
    "transition = transition/np.tile(np.expand_dims(np.sum(transition,axis=1),axis=1),(1,2))\n",
    "\n",
    "\n",
    "forward = np.random.rand(size,n_states)\n",
    "scale_factors = np.zeros((size))\n",
    "forward_hat = np.zeros((size,n_states))\n",
    "\n",
    "backward = np.random.rand(size,n_states)\n",
    "backward_hat = np.zeros((size,n_states))\n",
    "\n",
    "init_prob = np.array([0.5,0.5])\n",
    "init_obs = np.zeros(n_states)\n",
    "\n",
    "p_old = -10000\n",
    "tol = 0.0001\n",
    "max_iter = 100\n",
    "\n",
    "mu = np.random.rand(n_states)"
   ]
  },
  {
   "cell_type": "code",
   "execution_count": 60,
   "metadata": {},
   "outputs": [
    {
     "name": "stdout",
     "output_type": "stream",
     "text": [
      "p is:-712.2057768636425\n",
      "p is:-366.9245717940353\n",
      "p is:-366.92422681632075\n",
      "p is:-366.9241997771165\n",
      "p is:-366.92417223859445\n",
      "p is:-366.92414418717465\n",
      "p is:-366.92411560903184\n",
      "p is:-366.9240864900904\n",
      "p is:-366.9240568160203\n",
      "p is:-366.92402657223295\n",
      "p is:-366.9239957438768\n",
      "p is:-366.92396431583416\n",
      "p is:-366.9239322727155\n",
      "p is:-366.9238995988567\n",
      "p is:-366.9238662783155\n",
      "p is:-366.9238322948663\n",
      "p is:-366.9237976319968\n",
      "p is:-366.92376227290526\n",
      "p is:-366.923726200495\n",
      "p is:-366.92368939737264\n",
      "p is:-366.92365184584366\n",
      "p is:-366.92361352790886\n",
      "p is:-366.9235744252626\n",
      "p is:-366.9235345192875\n",
      "p is:-366.92349379105366\n",
      "p is:-366.9234522213146\n",
      "p is:-366.9234097905055\n",
      "p is:-366.9233664787391\n",
      "p is:-366.92332226580584\n",
      "p is:-366.92327713117015\n",
      "p is:-366.9232310539694\n",
      "p is:-366.92318401301185\n",
      "p is:-366.9231359867763\n",
      "p is:-366.9230869534092\n",
      "p is:-366.9230368907264\n",
      "p is:-366.92298577621034\n",
      "p is:-366.92293358701113\n",
      "p is:-366.9228802999464\n",
      "p is:-366.9228258915024\n",
      "p is:-366.9227703378334\n",
      "p is:-366.92271361476514\n",
      "p is:-366.92265569779465\n",
      "p is:-366.922596562093\n",
      "p is:-366.92253618250777\n",
      "p is:-366.9224745335663\n",
      "p is:-366.9224115894786\n",
      "p is:-366.9223473241419\n",
      "p is:-366.922281711145\n",
      "p is:-366.9222147237733\n",
      "p is:-366.92214633501374\n",
      "p is:-366.92207651756144\n",
      "p is:-366.9220052438277\n",
      "p is:-366.92193248594424\n",
      "p is:-366.9218582157747\n",
      "p is:-366.92178240492115\n",
      "p is:-366.9217050247344\n",
      "p is:-366.92162604632284\n",
      "p is:-366.9215454405653\n",
      "p is:-366.92146317812103\n",
      "p is:-366.9213792294413\n",
      "p is:-366.92129356478466\n",
      "p is:-366.9212061542289\n",
      "p is:-366.92111696768666\n",
      "p is:-366.92102597491987\n",
      "p is:-366.92093314555734\n",
      "p is:-366.9208384491109\n",
      "p is:-366.9207418549929\n",
      "p is:-366.9206433325372\n",
      "p is:-366.9205428510169\n",
      "p is:-366.92044037966394\n",
      "p is:-366.920335887694\n",
      "p is:-366.9202293443251\n",
      "p is:-366.9201207188037\n",
      "p is:-366.92000998042647\n",
      "p is:-366.9198970985661\n",
      "p is:-366.91978204269776\n",
      "p is:-366.91966478242375\n",
      "p is:-366.9195452875033\n",
      "p is:-366.9194235278791\n",
      "p is:-366.9192994737061\n",
      "p is:-366.91917309538195\n",
      "p is:-366.91904436357805\n",
      "p is:-366.91891324926917\n",
      "p is:-366.9187797237662\n",
      "p is:-366.9186437587483\n",
      "p is:-366.91850532629553\n",
      "p is:-366.9183643989234\n",
      "p is:-366.9182209496156\n",
      "p is:-366.9180749518585\n",
      "p is:-366.9179263796767\n",
      "p is:-366.9177752076673\n",
      "p is:-366.9176214110361\n",
      "p is:-366.9174649656301\n",
      "p is:-366.91730584797676\n",
      "p is:-366.91714403531694\n",
      "p is:-366.91697950564014\n",
      "p is:-366.9168122377214\n",
      "p is:-366.91664221115286\n",
      "p is:-366.916469406382\n",
      "p is:-366.9162938047421\n"
     ]
    }
   ],
   "source": [
    "for ite in range(max_iter):\n",
    "    forward[0,:] = init_prob * emission[0,:]\n",
    "    scale_factors[0] = np.sum(forward[0,:])\n",
    "    forward_hat[0,:] = forward[0,:]/scale_factors[0]\n",
    "    \n",
    "    for t in range(size-1):\n",
    "        temp = np.matmul(forward_hat[t,:] ,transition) * emission[t+1,:]\n",
    "        scale_factors[t+1] = np.sum(temp)\n",
    "        forward_hat[t+1,:] = temp/scale_factors[t+1]\n",
    "        forward[t+1,:] = forward_hat[t+1,:]*np.prod(scale_factors[0:t+1])\n",
    "\n",
    "    backward[-1,:] = 1\n",
    "    backward_hat[-1,:] = backward[-1,:]\n",
    "    for t in reversed(range(size-1)):\n",
    "        temp = np.matmul(backward_hat[t+1,:]*emission[t+1,:],np.transpose(transition))\n",
    "        backward_hat[t,:] = temp/scale_factors[t+1]\n",
    "        backward[t,:] = backward_hat[t,:]*np.prod(scale_factors[t+1:-1])\n",
    "\n",
    "\n",
    "    a = np.zeros((size,n_states))\n",
    "    b = np.zeros((size,n_states,n_states))\n",
    "    for i in range(size):\n",
    "        for j in range(n_states):\n",
    "            a[i,j] = forward_hat[i,j]*backward_hat[i,j]\n",
    "    for t in range(size-1):\n",
    "        for i in range(n_states):\n",
    "            for j in range(n_states):\n",
    "                b[t,i,j] = scale_factors[t+1]*forward_hat[t,i]*backward_hat[t+1,j]*transition[i,j]*emission[j,data[t+1]]\n",
    "\n",
    "    for i in range(n_states):\n",
    "        for j in range(n_states):\n",
    "            transition[i,j] = np.sum(b[0:-1,i,j])/np.sum(b[0:-1,i,:])\n",
    "\n",
    "    for i in range(n_states):\n",
    "        init_prob[i] = a[0,i]/np.sum(a[0,:])\n",
    "\n",
    "    for i in range(n_states):\n",
    "        for j in range(n_states):\n",
    "            emission[np.argwhere(data==i),j] = np.sum(a[np.argwhere(data==i),j]) / np.sum(a[:,j])\n",
    "            \n",
    "    p = np.sum(np.log(scale_factors))\n",
    "    print(f'p is:{p}')\n",
    "    # print(f'transition prob is: {transition}')\n",
    "    # print(f'emission prob is:{emission}')\n",
    "    # if p - p_old < tol:\n",
    "    #     break\n",
    "    p_old = p"
   ]
  },
  {
   "cell_type": "code",
   "execution_count": 61,
   "metadata": {},
   "outputs": [
    {
     "data": {
      "text/plain": [
       "array([[0.28424844, 0.71575156],\n",
       "       [0.47405953, 0.52594047]])"
      ]
     },
     "execution_count": 61,
     "metadata": {},
     "output_type": "execute_result"
    }
   ],
   "source": [
    "transition"
   ]
  },
  {
   "cell_type": "code",
   "execution_count": 57,
   "metadata": {},
   "outputs": [
    {
     "data": {
      "text/plain": [
       "(282, 1)"
      ]
     },
     "execution_count": 57,
     "metadata": {},
     "output_type": "execute_result"
    }
   ],
   "source": [
    "np.argwhere(data==1).shape"
   ]
  },
  {
   "cell_type": "code",
   "execution_count": null,
   "metadata": {},
   "outputs": [],
   "source": []
  }
 ],
 "metadata": {
  "kernelspec": {
   "display_name": "ml",
   "language": "python",
   "name": "python3"
  },
  "language_info": {
   "codemirror_mode": {
    "name": "ipython",
    "version": 3
   },
   "file_extension": ".py",
   "mimetype": "text/x-python",
   "name": "python",
   "nbconvert_exporter": "python",
   "pygments_lexer": "ipython3",
   "version": "3.12.2"
  }
 },
 "nbformat": 4,
 "nbformat_minor": 2
}
