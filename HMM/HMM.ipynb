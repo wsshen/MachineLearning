{
 "cells": [
  {
   "cell_type": "code",
   "execution_count": 8,
   "metadata": {},
   "outputs": [],
   "source": [
    "import numpy as np\n",
    "# constant size\n",
    "size = 1000\n",
    "# Set p(H) apriori for simulation as a biased coin.\n",
    "p_h = 0.7\n",
    "\n",
    "# Model experiment as a single biased coin flipped 1000 times.\n",
    "data = np.random.binomial(1, p_h, size=size)"
   ]
  },
  {
   "cell_type": "code",
   "execution_count": 9,
   "metadata": {},
   "outputs": [],
   "source": [
    "n_states = 2\n",
    "n_obs = 2\n",
    "\n",
    "emission = np.array([[0.2,0.8],[0.3,0.7]])\n",
    "transition = np.array([[0.5,0.5],[0.5,0.5]])\n",
    "\n",
    "backward = np.random.rand(size,n_states)\n",
    "forward = np.random.rand(size,n_states)\n",
    "forward_factors = np.zeros((size))\n",
    "forward_hat = np.zeros((size,n_states))\n",
    "\n",
    "init_prob = np.array([0.5,0.5])\n",
    "init_obs = np.zeros(n_states)"
   ]
  },
  {
   "cell_type": "code",
   "execution_count": 10,
   "metadata": {},
   "outputs": [],
   "source": [
    "forward[0,:] = init_prob * emission[:,data[0]]\n",
    "forward_factors[0] = np.sum(forward[0,:])\n",
    "forward_hat[0,:] = forward[0,:]/forward_factors[0]\n",
    "for t in range(size-1):\n",
    "\n",
    "    forward[t+1,:] = np.matmul(forward_hat[t,:] ,transition) * emission[:,data[t]]\n",
    "    forward_factors[t+1] = np.sum(forward[t+1,:])\n",
    "    forward_hat = forward[t+1,:]/forward_factors[t+1]\n",
    "    "
   ]
  },
  {
   "cell_type": "code",
   "execution_count": 35,
   "metadata": {},
   "outputs": [],
   "source": [
    "backward[-1,:] = 1\n",
    "for t in reversed(range(size-1)):\n",
    "    backward[t,] = np.matmul(backward[t+1,:],np.transpose(transition)) * emission[:,data[t+1]]\n",
    "\n",
    "init_obs = init_prob * emission[0,:] * backward[0,:]"
   ]
  },
  {
   "cell_type": "code",
   "execution_count": 36,
   "metadata": {},
   "outputs": [],
   "source": [
    "# [print(t) for t in reversed(range(5))]"
   ]
  },
  {
   "cell_type": "code",
   "execution_count": null,
   "metadata": {},
   "outputs": [],
   "source": [
    "transition_est = np.random.rand(size,n_states,n_states)\n",
    "for t in range(size-1):\n",
    "    for i in range(n_states):\n",
    "        for j in range(n_states):\n",
    "            transition_est[t,i,j] = forward[t,i]*transition[i,j]*emission[j,data[t+1]]*backward[t+1,j] / (np.sum(forward[t,:]*backward[t,:]))\n",
    "\n",
    "\n"
   ]
  },
  {
   "cell_type": "code",
   "execution_count": 41,
   "metadata": {},
   "outputs": [],
   "source": [
    "for i in range(n_states):\n",
    "    for j in range(n_states):\n",
    "        transition[i,j] = np.sum(transition_est[0:-1,i,j])/np.sum(transition_est[0:-1,i,:])"
   ]
  },
  {
   "cell_type": "code",
   "execution_count": null,
   "metadata": {},
   "outputs": [],
   "source": []
  }
 ],
 "metadata": {
  "kernelspec": {
   "display_name": "ml",
   "language": "python",
   "name": "python3"
  },
  "language_info": {
   "codemirror_mode": {
    "name": "ipython",
    "version": 3
   },
   "file_extension": ".py",
   "mimetype": "text/x-python",
   "name": "python",
   "nbconvert_exporter": "python",
   "pygments_lexer": "ipython3",
   "version": "3.12.2"
  }
 },
 "nbformat": 4,
 "nbformat_minor": 2
}
