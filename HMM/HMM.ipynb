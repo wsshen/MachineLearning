{
 "cells": [
  {
   "cell_type": "code",
   "execution_count": 1,
   "metadata": {},
   "outputs": [],
   "source": [
    "import numpy as np\n",
    "from hmmlearn import hmm\n",
    "import csv\n"
   ]
  },
  {
   "cell_type": "code",
   "execution_count": 2,
   "metadata": {},
   "outputs": [],
   "source": [
    "hmm_states = 2\n",
    "\n",
    "model = hmm.CategoricalHMM(n_components=hmm_states)\n",
    "model.emissionprob_ = np.array([[0.1,0.9],[0.9,0.1]])\n",
    "model.transmat_ = np.array([[0.9,0.1],[0.1,0.9]])\n",
    "model.startprob_ = np.array([0.4,0.6])\n",
    "data,states = model.sample(n_samples = 1000,random_state=28)\n",
    "data = np.squeeze(data)"
   ]
  },
  {
   "cell_type": "code",
   "execution_count": 3,
   "metadata": {},
   "outputs": [],
   "source": [
    "\n",
    "# constant n_obs\n",
    "# n_obs = 1000\n",
    "# # Set p(H) apriori for simulation as a biased coin.\n",
    "# p_h = 0.8\n",
    "\n",
    "# # Model experiment as a single biased coin flipped 1000 times.\n",
    "# data = np.random.binomial(1, p_h, n_obs=n_obs)"
   ]
  },
  {
   "cell_type": "code",
   "execution_count": 4,
   "metadata": {},
   "outputs": [],
   "source": [
    "n_states = 2\n",
    "n_features = 2\n",
    "n_obs = data.shape[0]\n",
    "# emission = np.random.rand(n_obs,n_states)\n",
    "# emission = emission/np.tile(np.expand_dims(np.sum(emission,axis=1),axis=1),(1,2))\n",
    "\n",
    "emission = np.random.rand(n_states,n_features)\n",
    "emission = emission/np.tile(np.expand_dims(np.sum(emission,axis=1),axis=1),(1,2))\n",
    "# emission = np.array([[0.5,0.5],[0.5,0.5]])\n",
    "emission = np.array([[0.2,0.8],[0.3,0.7]])\n",
    "\n",
    "transition =  np.random.rand(n_states,n_states)\n",
    "transition = transition/np.tile(np.expand_dims(np.sum(transition,axis=1),axis=1),(1,2))\n",
    "# transition = np.array([[0.6,0.4],[0.5,0.5]])\n",
    "transition = np.array([[0.6,0.4],[0.3,0.7]])\n",
    "\n",
    "\n",
    "# forward = np.random.rand(n_obs,n_states)\n",
    "scale_factors = np.zeros((n_obs))\n",
    "forward_hat = np.zeros((n_obs,n_states))\n",
    "\n",
    "# backward = np.random.rand(n_obs,n_states)\n",
    "backward_hat = np.zeros((n_obs,n_states))\n",
    "\n",
    "init_prob = np.array([0.5,0.5])\n",
    "\n",
    "\n",
    "p_old = -10000\n",
    "tol = 0.01\n",
    "max_iter = 100\n",
    "\n",
    "mu = np.random.rand(n_states)"
   ]
  },
  {
   "cell_type": "code",
   "execution_count": 5,
   "metadata": {},
   "outputs": [
    {
     "name": "stdout",
     "output_type": "stream",
     "text": [
      "emission is [[0.2 0.8]\n",
      " [0.3 0.7]] and transition is [[0.6 0.4]\n",
      " [0.3 0.7]]\n"
     ]
    }
   ],
   "source": [
    "print(f'emission is {emission} and transition is {transition}')"
   ]
  },
  {
   "cell_type": "code",
   "execution_count": null,
   "metadata": {},
   "outputs": [
    {
     "name": "stdout",
     "output_type": "stream",
     "text": [
      "p is:-818.8636434625259,transition is [[0.6004226  0.3995774 ]\n",
      " [0.29159828 0.70840172]],emission is [[0.38365454 0.61634546]\n",
      " [0.5636714  0.4363286 ]],init is [0.36281816 0.63718184]\n",
      "p is:-687.181891090112,transition is [[0.61661561 0.38338439]\n",
      " [0.28425633 0.71574367]],emission is [[0.3544178  0.6455822 ]\n",
      " [0.59941244 0.40058756]],init is [0.24945951 0.75054049]\n",
      "p is:-680.9705606188805,transition is [[0.64600533 0.35399467]\n",
      " [0.27046388 0.72953612]],emission is [[0.30553344 0.69446656]\n",
      " [0.64000492 0.35999508]],init is [0.13578643 0.86421357]\n",
      "p is:-667.8168121649196,transition is [[0.69678523 0.30321477]\n",
      " [0.24409724 0.75590276]],emission is [[0.24200889 0.75799111]\n",
      " [0.69710933 0.30289067]],init is [0.05017892 0.94982108]\n",
      "p is:-639.8316110991912,transition is [[0.7741952  0.2258048 ]\n",
      " [0.19722176 0.80277824]],emission is [[0.17137898 0.82862102]\n",
      " [0.77066643 0.22933357]],init is [0.01008615 0.98991385]\n",
      "p is:-593.4090016733305,transition is [[0.8615474  0.1384526 ]\n",
      " [0.13251788 0.86748212]],emission is [[0.11697722 0.88302278]\n",
      " [0.83714751 0.16285249]],init is [8.18945310e-04 9.99181055e-01]\n",
      "p is:-555.660442184965,transition is [[0.92566384 0.07433616]\n",
      " [0.07551016 0.92448984]],emission is [[0.09625086 0.90374914]\n",
      " [0.86512713 0.13487287]],init is [2.19924652e-05 9.99978008e-01]\n",
      "p is:-552.9162510239944,transition is [[0.95754957 0.04245043]\n",
      " [0.04324116 0.95675884]],emission is [[0.09684955 0.90315045]\n",
      " [0.8580566  0.1419434 ]],init is [2.34950584e-07 9.99999765e-01]\n",
      "p is:-565.0939784993939,transition is [[0.96933498 0.03066502]\n",
      " [0.03012834 0.96987166]],emission is [[0.10083382 0.89916618]\n",
      " [0.83622969 0.16377031]],init is [1.44195978e-09 9.99999999e-01]\n",
      "p is:-573.4138332665746,transition is [[0.9724797 0.0275203]\n",
      " [0.0261339 0.9738661]],emission is [[0.10233548 0.89766452]\n",
      " [0.81644503 0.18355497]],init is [6.79788633e-12 1.00000000e+00]\n",
      "p is:-576.0573019383078,transition is [[0.97272014 0.02727986]\n",
      " [0.02540206 0.97459794]],emission is [[0.10189277 0.89810723]\n",
      " [0.80436116 0.19563884]],init is [2.96893148e-14 1.00000000e+00]\n",
      "p is:-576.2073850522527,transition is [[0.97234829 0.02765171]\n",
      " [0.02553087 0.97446913]],emission is [[0.10085637 0.89914363]\n",
      " [0.79843155 0.20156845]],init is [1.29068989e-16 1.00000000e+00]\n",
      "p is:-575.8280824496992,transition is [[0.97203648 0.02796352]\n",
      " [0.02575008 0.97424992]],emission is [[0.09996721 0.90003279]\n",
      " [0.79591956 0.20408044]],init is [5.64308812e-19 1.00000000e+00]\n",
      "p is:-575.5163050803147,transition is [[0.97187292 0.02812708]\n",
      " [0.02588906 0.97411094]],emission is [[0.09940054 0.90059946]\n",
      " [0.79496278 0.20503722]],init is [2.47264225e-21 1.00000000e+00]\n",
      "p is:-575.3486187950314,transition is [[0.9718062  0.0281938 ]\n",
      " [0.02595359 0.97404641]],emission is [[0.09909369 0.90090631]\n",
      " [0.79462282 0.20537718]],init is [1.08282896e-23 1.00000000e+00]\n",
      "p is:-575.2773287520868,transition is [[0.97178466 0.02821534]\n",
      " [0.02597739 0.97402261]],emission is [[0.09894454 0.90105546]\n",
      " [0.79450306 0.20549694]],init is [4.73584948e-26 1.00000000e+00]\n",
      "p is:-575.2529006450186,transition is [[0.97177975 0.02822025]\n",
      " [0.0259841  0.9740159 ]],emission is [[0.09887733 0.90112267]\n",
      " [0.79445678 0.20554322]],init is [2.06905197e-28 1.00000000e+00]\n",
      "p is:-575.2466707962581,transition is [[0.9717795  0.0282205 ]\n",
      " [0.02598516 0.97401484]],emission is [[0.09884849 0.90115151]\n",
      " [0.7944354  0.2055646 ]],init is [9.03351432e-31 1.00000000e+00]\n"
     ]
    }
   ],
   "source": [
    "for ite in range(max_iter):\n",
    "    forward_hat = np.zeros((n_obs,n_states))\n",
    "    backward_hat = np.zeros((n_obs,n_states))\n",
    "    scale_factors = np.zeros((n_obs))\n",
    "\n",
    "    for i in range(n_states):\n",
    "        forward_hat[0,i] = init_prob[i] * emission[i,data[0]]\n",
    "    scale_factors[0] = np.sum(forward_hat[0,:])\n",
    "    forward_hat[0,:] = forward_hat[0,:]/scale_factors[0]\n",
    "    \n",
    "    for t in range(1,n_obs):\n",
    "        for i in range(n_states):\n",
    "            for j in range(n_states):\n",
    "                forward_hat[t,i] += forward_hat[t-1,j] * transition[j,i]\n",
    "                # temp = np.matmul(forward_hat[t,i] ,np.transpose(transition[i,j])) * emission[i,data[t+1]]\n",
    "            forward_hat[t,i] = forward_hat[t,i] * emission[i,data[t]]\n",
    "        scale_factors[t] = np.sum(forward_hat[t,:])\n",
    "\n",
    "        forward_hat[t,:] = forward_hat[t,:]/scale_factors[t]\n",
    "        # print(f'temp is {temp} and the scale factor is {scale_factors[t+1]} and the forward_hat is {forward_hat[t+1]}')\n",
    "\n",
    "        # forward[t,i] = forward_hat[t,:]*np.prod(scale_factors[0:t])\n",
    "\n",
    "    backward_hat[-1,:] = scale_factors[-1]\n",
    "    for t in reversed(range(n_obs-1)):\n",
    "        for i in range(n_states):\n",
    "            for j in range(n_states):\n",
    "                backward_hat[t,i] += backward_hat[t+1,j] * emission[j,data[t+1]] * transition[i,j]\n",
    "        backward_hat[t,:] = backward_hat[t,:]/scale_factors[t]\n",
    "\n",
    "\n",
    "    a = np.zeros((n_obs,n_states))\n",
    "    b = np.zeros((n_obs,n_states,n_states))\n",
    "    for i in range(n_obs):\n",
    "        for j in range(n_states):\n",
    "            a[i,j] = forward_hat[i,j]*backward_hat[i,j]\n",
    "        temp = np.sum(a[i,:])\n",
    "        a[i,:] = a[i,:]/temp\n",
    "    \n",
    "    for t in range(n_obs-1):\n",
    "        for i in range(n_states):\n",
    "            for j in range(n_states):\n",
    "                b[t,i,j] = scale_factors[t+1]*forward_hat[t,i]*backward_hat[t+1,j]*transition[i,j]*emission[j,data[t+1]]\n",
    "\n",
    "    for i in range(n_states):\n",
    "        for j in range(n_states):\n",
    "            transition[i,j] = np.sum(b[0:-1,i,j])/np.sum(b[0:-1,i,:])\n",
    "            # print(np.sum(b[0:-1,i,j]),np.sum(b[0:-1,i,:]))\n",
    "\n",
    "\n",
    "    init_prob = a[0,:]\n",
    "\n",
    "    for i in range(n_states):\n",
    "        for j in range(n_states):\n",
    "            emission[j,i] = np.sum(a[np.argwhere(data==i),j]) / np.sum(a[:,j])\n",
    "            \n",
    "    p = np.sum(np.log(scale_factors))\n",
    "    print(f'p is:{p},transition is {transition},emission is {emission},init is {init_prob}')\n",
    "    # print(f'p is: {p}')\n",
    "    # print(f'transition prob is: {transition}')\n",
    "    # print(f'emission prob is:{emission}')\n",
    "    if p>p_old and p - p_old < tol:\n",
    "        break\n",
    "    p_old = p"
   ]
  },
  {
   "cell_type": "code",
   "execution_count": 7,
   "metadata": {},
   "outputs": [
    {
     "name": "stdout",
     "output_type": "stream",
     "text": [
      "transition is [[0.9717795  0.0282205 ]\n",
      " [0.02598516 0.97401484]], emission is [[0.09884849 0.90115151]\n",
      " [0.7944354  0.2055646 ]],init_prob is [9.03351432e-31 1.00000000e+00]\n"
     ]
    }
   ],
   "source": [
    "print(f'transition is {transition}, emission is {emission},init_prob is {init_prob}')"
   ]
  },
  {
   "cell_type": "code",
   "execution_count": 8,
   "metadata": {},
   "outputs": [],
   "source": [
    "# model = hmm.CategoricalHMM(n_components=n_states,emissionprob_prior=emission,transmat_prior=transition,startprob_prior=init_prob)\n",
    "# model2 = hmm.CategoricalHMM(n_components=hmm_states,n_iter=1000)\n"
   ]
  },
  {
   "cell_type": "code",
   "execution_count": 9,
   "metadata": {},
   "outputs": [],
   "source": [
    "# model2.fit(data.reshape(-1,1))\n",
    "# hidden_states = model2.predict(data.reshape(-1,1))\n",
    "# print(\"Most likely hidden states:\", hidden_states)\n"
   ]
  },
  {
   "cell_type": "code",
   "execution_count": 10,
   "metadata": {},
   "outputs": [],
   "source": [
    "# model2.monitor_.converged\n"
   ]
  },
  {
   "cell_type": "code",
   "execution_count": 11,
   "metadata": {},
   "outputs": [],
   "source": [
    "# model2.emissionprob_"
   ]
  },
  {
   "cell_type": "code",
   "execution_count": 12,
   "metadata": {},
   "outputs": [],
   "source": [
    "# model2.transmat_"
   ]
  },
  {
   "cell_type": "code",
   "execution_count": null,
   "metadata": {},
   "outputs": [],
   "source": []
  }
 ],
 "metadata": {
  "kernelspec": {
   "display_name": "ml",
   "language": "python",
   "name": "python3"
  },
  "language_info": {
   "codemirror_mode": {
    "name": "ipython",
    "version": 3
   },
   "file_extension": ".py",
   "mimetype": "text/x-python",
   "name": "python",
   "nbconvert_exporter": "python",
   "pygments_lexer": "ipython3",
   "version": "3.12.2"
  }
 },
 "nbformat": 4,
 "nbformat_minor": 2
}
