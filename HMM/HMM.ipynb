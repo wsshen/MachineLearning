{
 "cells": [
  {
   "cell_type": "code",
   "execution_count": 1,
   "metadata": {},
   "outputs": [],
   "source": [
    "import numpy as np\n",
    "# constant size\n",
    "size = 10000\n",
    "# Set p(H) apriori for simulation as a biased coin.\n",
    "p_h = 0.7\n",
    "\n",
    "# Model experiment as a single biased coin flipped 1000 times.\n",
    "data = np.random.binomial(1, p_h, size=size)"
   ]
  },
  {
   "cell_type": "code",
   "execution_count": 2,
   "metadata": {},
   "outputs": [],
   "source": [
    "n_states = 2\n",
    "n_obs = data.shape[0]\n",
    "\n",
    "emission = np.random.rand(n_obs,n_states)\n",
    "transition = np.random.rand(n_states,n_states)\n",
    "backward = np.random.rand(size,n_states)\n",
    "backward[-1,:] = 1\n",
    "\n",
    "forward = np.random.rand(size,n_states)\n",
    "\n",
    "\n",
    "init_prob = np.random.rand(n_states)\n",
    "init_obs = np.zeros(n_states)"
   ]
  },
  {
   "cell_type": "code",
   "execution_count": null,
   "metadata": {},
   "outputs": [],
   "source": [
    "for t in reversed(range(size-1)):\n",
    "    for j in range(n_states):\n",
    "        backward[t,j] = np.sum(backward[t+1,:]*transition[j,:] * emission[t+1,:])\n",
    "init_obs = init_prob * emission[0,:] * backward[0,:]"
   ]
  },
  {
   "cell_type": "code",
   "execution_count": 7,
   "metadata": {},
   "outputs": [],
   "source": [
    "forward[0,:] = init_prob * emission[0,:]\n",
    "for t in range(size-1):\n",
    "    forward[t+1,:] = np.matmul(forward[t,:] ,transition) * emission[t+1,:]\n"
   ]
  },
  {
   "cell_type": "code",
   "execution_count": null,
   "metadata": {},
   "outputs": [],
   "source": [
    "transition_est = np.random.rand(size,n_states,n_states)\n",
    "for t in range(size):\n",
    "    for i in range(n_states):\n",
    "        for j in range(n_states):\n",
    "            transition_est[t,i,j] = "
   ]
  }
 ],
 "metadata": {
  "kernelspec": {
   "display_name": "ml",
   "language": "python",
   "name": "python3"
  },
  "language_info": {
   "codemirror_mode": {
    "name": "ipython",
    "version": 3
   },
   "file_extension": ".py",
   "mimetype": "text/x-python",
   "name": "python",
   "nbconvert_exporter": "python",
   "pygments_lexer": "ipython3",
   "version": "3.12.2"
  }
 },
 "nbformat": 4,
 "nbformat_minor": 2
}
