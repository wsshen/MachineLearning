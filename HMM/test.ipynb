{
 "cells": [
  {
   "cell_type": "code",
   "execution_count": 25,
   "metadata": {},
   "outputs": [],
   "source": [
    "import numpy as np\n",
    "from hmmlearn import hmm"
   ]
  },
  {
   "cell_type": "code",
   "execution_count": 26,
   "metadata": {},
   "outputs": [],
   "source": [
    "hmm_states = 2\n",
    "\n",
    "model = hmm.CategoricalHMM(n_components=hmm_states)\n",
    "model.emissionprob_ = np.array([[0.6,0.4],[0.1,0.9]])\n",
    "model.transmat_ = np.array([[0.8,0.2],[0.1,0.9]])\n",
    "model.startprob_ = np.array([0.4,0.6])\n",
    "data,states = model.sample(n_samples = 1000,random_state=28)\n",
    "data = np.squeeze(data)"
   ]
  },
  {
   "cell_type": "code",
   "execution_count": 34,
   "metadata": {},
   "outputs": [
    {
     "name": "stdout",
     "output_type": "stream",
     "text": [
      "start fitting...\n",
      "at e step\n",
      "at e step\n",
      "at e step\n",
      "[0.59929208 0.40070792] [[0.20073057 0.79926943]\n",
      " [0.3012429  0.6987571 ]] [[0.50255477 0.49744523]\n",
      " [0.49698407 0.50301593]]\n"
     ]
    }
   ],
   "source": [
    "model2 = hmm.CategoricalHMM(n_components=hmm_states,n_iter=1000,implementation='log',init_params='')\n",
    "model2.emissionprob_ = np.array([[0.2,0.8],[0.3,0.7]])\n",
    "model2.transmat_ = np.array([[0.5,0.5],[0.5,0.5]])\n",
    "model2.startprob_ = np.array([0.5,0.5])\n",
    "\n",
    "model2.fit(data.reshape(-1,1))\n",
    "print(model2.startprob_,model2.emissionprob_,model2.transmat_)\n"
   ]
  },
  {
   "cell_type": "code",
   "execution_count": 33,
   "metadata": {},
   "outputs": [
    {
     "data": {
      "text/plain": [
       "-563.407383131025"
      ]
     },
     "execution_count": 33,
     "metadata": {},
     "output_type": "execute_result"
    }
   ],
   "source": [
    "model2.score(data.reshape(-1,1))"
   ]
  },
  {
   "cell_type": "code",
   "execution_count": null,
   "metadata": {},
   "outputs": [],
   "source": []
  }
 ],
 "metadata": {
  "kernelspec": {
   "display_name": "transformer",
   "language": "python",
   "name": "python3"
  },
  "language_info": {
   "codemirror_mode": {
    "name": "ipython",
    "version": 3
   },
   "file_extension": ".py",
   "mimetype": "text/x-python",
   "name": "python",
   "nbconvert_exporter": "python",
   "pygments_lexer": "ipython3",
   "version": "3.10.13"
  }
 },
 "nbformat": 4,
 "nbformat_minor": 2
}
