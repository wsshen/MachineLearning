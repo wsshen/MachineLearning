{
 "cells": [
  {
   "cell_type": "code",
   "execution_count": null,
   "metadata": {},
   "outputs": [],
   "source": [
    "import numpy as np\n",
    "from sklearn import datasets,decomposition"
   ]
  },
  {
   "cell_type": "code",
   "execution_count": null,
   "metadata": {},
   "outputs": [],
   "source": [
    "class PCA:\n",
    "\n",
    "    def __init__(self,num_components) -> None:\n",
    "        self.num_components = num_components\n",
    "        self.components = None\n",
    "        self.mean = None\n",
    "        self.variance_share = None\n",
    "\n",
    "    def fit(self,X):\n",
    "        self.mean = np.mean(X,axis=0)\n",
    "        X -= self.mean\n",
    "\n",
    "    # calculate eigenvalues\n",
    "        matrix_product = np.matmul(X.T,X)\n",
    "        eig_values, eig_vectors = np.linalg.eig(matrix_product)\n",
    "        sort_idx = np.argsort(eig_values)[::-1]\n",
    "        values = eig_values[sort_idx]\n",
    "        vectors = eig_vectors[:,sort_idx]\n",
    "\n",
    "        self.components = vectors[:self.num_components]\n",
    "        self.variance_share = np.sum(values[:self.num_components]) / np.sum(values)\n",
    "\n",
    "\n",
    "    def transform(self,X):\n",
    "\n",
    "        X -= self.mean\n",
    "        return np.dot(X,self.components.T)\n",
    "    \n",
    "    \n",
    "\n",
    "\n"
   ]
  },
  {
   "cell_type": "code",
   "execution_count": null,
   "metadata": {},
   "outputs": [],
   "source": [
    "X_old = np.random.normal(loc = 0, scale = 1, size = (1000, 10))\n",
    "X_new = np.random.normal(loc = 0, scale = 1, size = (500, 10)) \n",
    "\n",
    "print(X_old.shape, X_new.shape)"
   ]
  },
  {
   "cell_type": "code",
   "execution_count": null,
   "metadata": {},
   "outputs": [],
   "source": [
    "pca = PCA(num_components=8)\n",
    "pca.fit(X_old)"
   ]
  },
  {
   "cell_type": "code",
   "execution_count": null,
   "metadata": {},
   "outputs": [],
   "source": [
    "print(f'Explained variance is:{pca.variance_share:.4f}')"
   ]
  },
  {
   "cell_type": "code",
   "execution_count": null,
   "metadata": {},
   "outputs": [],
   "source": [
    "pca.transform(X_old)"
   ]
  },
  {
   "cell_type": "code",
   "execution_count": null,
   "metadata": {},
   "outputs": [],
   "source": []
  }
 ],
 "metadata": {
  "kernelspec": {
   "display_name": "ml",
   "language": "python",
   "name": "python3"
  },
  "language_info": {
   "codemirror_mode": {
    "name": "ipython",
    "version": 3
   },
   "file_extension": ".py",
   "mimetype": "text/x-python",
   "name": "python",
   "nbconvert_exporter": "python",
   "pygments_lexer": "ipython3",
   "version": "3.12.2"
  }
 },
 "nbformat": 4,
 "nbformat_minor": 2
}
