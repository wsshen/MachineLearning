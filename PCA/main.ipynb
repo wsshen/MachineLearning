{
 "cells": [
  {
   "cell_type": "code",
   "execution_count": 1,
   "metadata": {},
   "outputs": [],
   "source": [
    "import numpy as np"
   ]
  },
  {
   "cell_type": "code",
   "execution_count": 2,
   "metadata": {},
   "outputs": [],
   "source": [
    "class PCA:\n",
    "\n",
    "    def __init__(self,num_components) -> None:\n",
    "        self.num_components = num_components\n",
    "        self.components = None\n",
    "        self.mean = None\n",
    "        self.variance_share = None\n",
    "\n",
    "    def fit(self,X):\n",
    "        self.mean = np.mean(X,axis=0)\n",
    "        X -= self.mean\n",
    "\n",
    "    # calculate eigenvalues\n",
    "        matrix_product = np.matmul(X.T,X)\n",
    "        eig_values, eig_vectors = np.linalg.eig(matrix_product)\n",
    "        sort_idx = np.argsort(eig_values)[::-1]\n",
    "        values = eig_values[sort_idx]\n",
    "        vectors = eig_vectors[:,sort_idx]\n",
    "\n",
    "        self.components = vectors[:self.num_components]\n",
    "        self.variance_share = np.sum(values[:self.num_components]) / np.sum(values)\n",
    "\n",
    "\n",
    "    def transform(self,X):\n",
    "\n",
    "        X -= self.mean\n",
    "        return np.dot(X,self.components.T)\n",
    "    \n",
    "    \n",
    "\n",
    "\n"
   ]
  },
  {
   "cell_type": "code",
   "execution_count": 3,
   "metadata": {},
   "outputs": [
    {
     "name": "stdout",
     "output_type": "stream",
     "text": [
      "(1000, 10) (500, 10)\n"
     ]
    }
   ],
   "source": [
    "X_old = np.random.normal(loc = 0, scale = 1, size = (1000, 10))\n",
    "X_new = np.random.normal(loc = 0, scale = 1, size = (500, 10)) \n",
    "\n",
    "print(X_old.shape, X_new.shape)"
   ]
  },
  {
   "cell_type": "code",
   "execution_count": 4,
   "metadata": {},
   "outputs": [],
   "source": [
    "pca = PCA(num_components=8)\n",
    "pca.fit(X_old)"
   ]
  },
  {
   "cell_type": "code",
   "execution_count": 5,
   "metadata": {},
   "outputs": [
    {
     "name": "stdout",
     "output_type": "stream",
     "text": [
      "Explained variance is:0.8350\n"
     ]
    }
   ],
   "source": [
    "print(f'Explained variance is:{pca.variance_share:.4f}')"
   ]
  },
  {
   "cell_type": "code",
   "execution_count": 6,
   "metadata": {},
   "outputs": [
    {
     "data": {
      "text/plain": [
       "array([[-0.01828269,  0.24804799,  1.36972764, ...,  0.73454248,\n",
       "         0.04686528, -0.75514566],\n",
       "       [-0.36855915,  2.51407443, -2.23605689, ..., -0.91787197,\n",
       "         0.93598134, -1.97738015],\n",
       "       [ 1.08311708, -0.1655728 , -0.43538611, ...,  0.55985354,\n",
       "         0.21987032, -1.87541065],\n",
       "       ...,\n",
       "       [-0.0735813 ,  1.01163409,  0.4015191 , ..., -1.66356142,\n",
       "        -0.07901387, -1.45962295],\n",
       "       [-1.55960587, -0.08980286,  0.74310373, ..., -0.24536556,\n",
       "        -1.07912716, -0.51429138],\n",
       "       [-2.32925252,  0.12631297,  0.5748922 , ..., -0.2360596 ,\n",
       "         0.67427566, -0.74092906]])"
      ]
     },
     "execution_count": 6,
     "metadata": {},
     "output_type": "execute_result"
    }
   ],
   "source": [
    "pca.transform(X_old)"
   ]
  },
  {
   "cell_type": "code",
   "execution_count": null,
   "metadata": {},
   "outputs": [],
   "source": []
  }
 ],
 "metadata": {
  "kernelspec": {
   "display_name": "ml",
   "language": "python",
   "name": "python3"
  },
  "language_info": {
   "codemirror_mode": {
    "name": "ipython",
    "version": 3
   },
   "file_extension": ".py",
   "mimetype": "text/x-python",
   "name": "python",
   "nbconvert_exporter": "python",
   "pygments_lexer": "ipython3",
   "version": "3.12.2"
  }
 },
 "nbformat": 4,
 "nbformat_minor": 2
}
