{
 "cells": [
  {
   "cell_type": "code",
   "execution_count": 12,
   "metadata": {},
   "outputs": [],
   "source": [
    "import os\n",
    "import glob\n",
    "import numpy as np\n",
    "import matplotlib.pyplot as plt\n",
    "\n",
    "import pickle\n",
    "import torch\n",
    "import torch.nn as nn"
   ]
  },
  {
   "cell_type": "code",
   "execution_count": 4,
   "metadata": {},
   "outputs": [],
   "source": [
    "dir00 = '/home/watson/Documents/CIFAR/cifar-10-python/cifar-10-batches-py/cifar-10-batches-py/small_alexnet'\n",
    "sub_folder = 'corrupt_labels_100_12-03-2024_19-00-33'\n",
    "file_weights = 'model_weights4950.pth'\n",
    "file_results = 'file4999.pkl'\n",
    "\n",
    "directory = dir00 + os.sep + sub_folder\n",
    "weights_dir = directory + os.sep + file_weights\n",
    "results_dir = directory + os.sep + file_results"
   ]
  },
  {
   "cell_type": "code",
   "execution_count": 13,
   "metadata": {},
   "outputs": [],
   "source": [
    "class Conv(nn.Module):\n",
    "    def __init__(self,input_channel,output_channel,kernel_size,stride,padding):\n",
    "        super(Conv, self).__init__()\n",
    "        self.conv = nn.Conv2d(input_channel, output_channel, kernel_size=kernel_size, stride=stride, padding=padding)\n",
    "        self.max = nn.MaxPool2d(3, stride=2,padding=0)\n",
    "        self.localnorm = nn.LocalResponseNorm(5,alpha=1e-4,beta=0.75,k=2)\n",
    "        self.relu = nn.ReLU()\n",
    "\n",
    "    def forward(self, x):\n",
    "        x = self.conv(x)\n",
    "        x = self.max(x)\n",
    "        x = self.localnorm(x)\n",
    "        x = self.relu(x)\n",
    "        return x\n",
    "    \n",
    "class fullconnect(nn.Module):\n",
    "    def __init__(self,input_channel,output_channel):\n",
    "        super(fullconnect, self).__init__()\n",
    "        self.fc = nn.Linear(input_channel,output_channel)\n",
    "        self.relu = nn.ReLU()\n",
    "\n",
    "    def forward(self, x):\n",
    "        x = self.fc(x)\n",
    "        x = self.relu(x)\n",
    "        return x\n",
    "    \n",
    "class AlexnetSmall(nn.Module):\n",
    "    def __init__(self,input_channel):\n",
    "        super(AlexnetSmall, self).__init__()\n",
    "        self.conv1 = Conv(input_channel,128,5,1,2)\n",
    "        self.conv2 = Conv(128,256,5,1,2)\n",
    "        self.maxpool = nn.MaxPool2d(3, stride=2)\n",
    "\n",
    "        self.fc1 = fullconnect(1024,384)\n",
    "        self.fc2 = fullconnect(384,192)\n",
    "        self.fc3 = nn.Linear(192, 10)  # 10-way classification\n",
    "\n",
    "    def forward(self, x):\n",
    "        x = self.conv1(x)\n",
    "        # print('conv1 done',x.shape)\n",
    "        x = self.conv2(x)\n",
    "        # print('conv2 done',x.shape)\n",
    "        x = self.maxpool(x)\n",
    "        # print('max pool is done',x.shape)\n",
    "        x = torch.flatten(x,1)\n",
    "        # print('x dimension after flattening',x.shape)\n",
    "        x = self.fc1(x)\n",
    "        # print('fc1 done')\n",
    "        x = self.fc2(x)\n",
    "        # print('fc2 done')\n",
    "        x = self.fc3(x)\n",
    "        # print('fc3 done')\n",
    "        return x"
   ]
  },
  {
   "cell_type": "code",
   "execution_count": 5,
   "metadata": {},
   "outputs": [],
   "source": [
    "with open(results_dir,'rb') as f:\n",
    "    results = pickle.load(f)\n"
   ]
  },
  {
   "cell_type": "code",
   "execution_count": null,
   "metadata": {},
   "outputs": [],
   "source": [
    "model = AlexnetSmall(3)\n",
    "model.load_state_dict(torch.load(weights_dir,weights_only=True))"
   ]
  },
  {
   "cell_type": "code",
   "execution_count": null,
   "metadata": {},
   "outputs": [],
   "source": [
    "norm = []\n",
    "for param in model.parameters():\n",
    "    \n",
    "    print(np.sum(param))"
   ]
  },
  {
   "cell_type": "code",
   "execution_count": null,
   "metadata": {},
   "outputs": [],
   "source": [
    "model.parameters"
   ]
  },
  {
   "cell_type": "code",
   "execution_count": null,
   "metadata": {},
   "outputs": [],
   "source": []
  }
 ],
 "metadata": {
  "kernelspec": {
   "display_name": "transformer",
   "language": "python",
   "name": "python3"
  },
  "language_info": {
   "codemirror_mode": {
    "name": "ipython",
    "version": 3
   },
   "file_extension": ".py",
   "mimetype": "text/x-python",
   "name": "python",
   "nbconvert_exporter": "python",
   "pygments_lexer": "ipython3",
   "version": "3.10.13"
  }
 },
 "nbformat": 4,
 "nbformat_minor": 2
}
