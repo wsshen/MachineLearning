{
 "cells": [
  {
   "cell_type": "code",
   "execution_count": 1,
   "metadata": {},
   "outputs": [],
   "source": [
    "import os\n",
    "import glob\n",
    "import numpy as np\n",
    "import matplotlib.pyplot as plt\n",
    "\n",
    "import pickle\n",
    "import torch\n",
    "import torch.nn as nn"
   ]
  },
  {
   "cell_type": "code",
   "execution_count": 43,
   "metadata": {},
   "outputs": [],
   "source": [
    "dir00 = '/home/watson/Documents/CIFAR/cifar-10-python/cifar-10-batches-py/cifar-10-batches-py/small_alexnet'\n",
    "sub_folder = ['true_labels_12-03-2024_19-00-34',\n",
    "              'corrupt_labels_20_12-03-2024_19-00-33',\n",
    "              'corrupt_labels_40_12-03-2024_19-00-33',\n",
    "              'corrupt_labels_60_12-03-2024_19-00-32',\n",
    "              'corrupt_labels_80_12-03-2024_19-00-38',\n",
    "              'random_labels_12-02-2024_17-21-21']\n",
    "file_weights = 'model_weights4950.pth'\n",
    "file_results = 'file4999.pkl'"
   ]
  },
  {
   "cell_type": "code",
   "execution_count": 2,
   "metadata": {},
   "outputs": [],
   "source": [
    "\n",
    "dir00 = '/home/watson/Documents/CIFAR/cifar-10-python/cifar-10-batches-py/cifar-10-batches-py/small_inception'\n",
    "sub_folder = ['true_labels_12-03-2024_19-01-03',\n",
    "              'corrupt_labels_20_12-03-2024_19-01-03',\n",
    "              'corrupt_labels_40_12-03-2024_19-01-04',\n",
    "              'corrupt_labels_60_12-03-2024_19-01-01',\n",
    "              'corrupt_labels_80_12-03-2024_19-01-01',\n",
    "              'random_labels_12-02-2024_17-21-40']\n",
    "file_weights = 'model_weights4950.pth'\n",
    "file_results = 'file4999.pkl'"
   ]
  },
  {
   "cell_type": "code",
   "execution_count": 26,
   "metadata": {},
   "outputs": [],
   "source": [
    "class Conv(nn.Module):\n",
    "    def __init__(self,input_channel,output_channel,kernel_size,stride,padding):\n",
    "        super(Conv, self).__init__()\n",
    "        self.conv = nn.Conv2d(input_channel, output_channel, kernel_size=kernel_size, stride=stride, padding=padding)\n",
    "        self.max = nn.MaxPool2d(3, stride=2,padding=0)\n",
    "        self.localnorm = nn.LocalResponseNorm(5,alpha=1e-4,beta=0.75,k=2)\n",
    "        self.relu = nn.ReLU()\n",
    "\n",
    "    def forward(self, x):\n",
    "        x = self.conv(x)\n",
    "        x = self.max(x)\n",
    "        x = self.localnorm(x)\n",
    "        x = self.relu(x)\n",
    "        return x\n",
    "    \n",
    "class fullconnect(nn.Module):\n",
    "    def __init__(self,input_channel,output_channel):\n",
    "        super(fullconnect, self).__init__()\n",
    "        self.fc = nn.Linear(input_channel,output_channel)\n",
    "        self.relu = nn.ReLU()\n",
    "\n",
    "    def forward(self, x):\n",
    "        x = self.fc(x)\n",
    "        x = self.relu(x)\n",
    "        return x\n",
    "    \n",
    "class AlexnetSmall(nn.Module):\n",
    "    def __init__(self,input_channel):\n",
    "        super(AlexnetSmall, self).__init__()\n",
    "        self.conv1 = Conv(input_channel,128,5,1,2)\n",
    "        self.conv2 = Conv(128,256,5,1,2)\n",
    "        self.maxpool = nn.MaxPool2d(3, stride=2)\n",
    "\n",
    "        self.fc1 = fullconnect(1024,384)\n",
    "        self.fc2 = fullconnect(384,192)\n",
    "        self.fc3 = nn.Linear(192, 10)  # 10-way classification\n",
    "\n",
    "    def forward(self, x):\n",
    "        x = self.conv1(x)\n",
    "        # print('conv1 done',x.shape)\n",
    "        x = self.conv2(x)\n",
    "        # print('conv2 done',x.shape)\n",
    "        x = self.maxpool(x)\n",
    "        # print('max pool is done',x.shape)\n",
    "        x = torch.flatten(x,1)\n",
    "        # print('x dimension after flattening',x.shape)\n",
    "        x = self.fc1(x)\n",
    "        # print('fc1 done')\n",
    "        x = self.fc2(x)\n",
    "        # print('fc2 done')\n",
    "        x = self.fc3(x)\n",
    "        # print('fc3 done')\n",
    "        return x"
   ]
  },
  {
   "cell_type": "code",
   "execution_count": 3,
   "metadata": {},
   "outputs": [],
   "source": [
    "class Conv(nn.Module):\n",
    "    def __init__(self,input_channel,output_channel,kernel_size,stride,padding):\n",
    "        super(Conv, self).__init__()\n",
    "        self.conv = nn.Conv2d(input_channel, output_channel, kernel_size=kernel_size, stride=stride, padding=padding)\n",
    "        self.batchnorm = nn.BatchNorm2d(output_channel) \n",
    "        self.relu = nn.ReLU()\n",
    "\n",
    "    def forward(self, x):\n",
    "        x = self.conv(x)\n",
    "        x = self.batchnorm(x)\n",
    "        x = self.relu(x)\n",
    "        return x\n",
    "    \n",
    "class Inception(nn.Module):\n",
    "    def __init__(self, input_channel, output1, output3):\n",
    "        super(Inception,self).__init__()\n",
    "        self.branch1 = Conv(input_channel, output1, 1, 1,padding=0)\n",
    "        self.branch3 = Conv(input_channel, output3, 3, 1,padding=1)\n",
    "\n",
    "    def forward(self, x):\n",
    "        b1 = self.branch1(x)  \n",
    "        b3 = self.branch3(x) \n",
    "        # print(b1.shape,b3.shape)\n",
    "        # Concatenate along the channel dimension\n",
    "        return torch.cat([b1, b3], dim=1)\n",
    "\n",
    "class Downsample(nn.Module):\n",
    "    def __init__(self, input_channel, output_channel):\n",
    "        super(Downsample,self).__init__()\n",
    "        self.branch_conv = Conv(input_channel, output_channel, 3, 2,padding=1)\n",
    "        self.branch_pool = nn.MaxPool2d(3, stride=2,padding=1)\n",
    "\n",
    "    def forward(self, x):\n",
    "        b_conv = self.branch_conv(x)  \n",
    "        b_pool = self.branch_pool(x) \n",
    "        # print(b_conv.shape,b_pool.shape)\n",
    "        # Concatenate along the channel dimension\n",
    "        return torch.cat([b_conv, b_pool], dim=1)\n",
    "\n",
    "class InceptionSmall(nn.Module):\n",
    "    def __init__(self,input_channel):\n",
    "        super(InceptionSmall, self).__init__()\n",
    "        self.initial_conv = Conv(input_channel, 96, 3, 1,1)  \n",
    "\n",
    "        # First Inception Block\n",
    "        self.inception1 = Inception(96, 32, 32)\n",
    "        self.inception2 = Inception(64, 32, 48)\n",
    "        self.downsample1 = Downsample(80, 80)\n",
    "\n",
    "        # Second Inception Block\n",
    "        self.inception3 = Inception(160, 112, 48)\n",
    "        self.inception4 = Inception(160, 96, 64)\n",
    "        self.inception5 = Inception(160, 80, 80)\n",
    "        self.inception6 = Inception(160, 48, 96)\n",
    "        self.downsample2 = Downsample(144, 96)\n",
    "\n",
    "        # Final Inception Block\n",
    "        self.inception7 = Inception(240, 176, 160)\n",
    "        self.inception8 = Inception(336, 176, 160)\n",
    "\n",
    "        # Classification Head\n",
    "        self.global_pool = nn.AvgPool2d(7)  # 7x7 kernel global pooling\n",
    "        self.fc = nn.Linear(336, 10)  # 10-way classification\n",
    "\n",
    "    def forward(self, x):\n",
    "        x = self.initial_conv(x)\n",
    "        # print('initial_conv done')\n",
    "        x = self.inception1(x)\n",
    "        # print('inception1 done')\n",
    "        x = self.inception2(x)\n",
    "        # print('inception2 done')\n",
    "\n",
    "        x = self.downsample1(x)\n",
    "        # print('downsample1 done')\n",
    "        x = self.inception3(x)\n",
    "        # print('inception3 done')\n",
    "\n",
    "        x = self.inception4(x)\n",
    "        # print('inception4 done')\n",
    "\n",
    "        x = self.inception5(x)\n",
    "        # print('inception5 done')\n",
    "\n",
    "        x = self.inception6(x)\n",
    "        # print('inception6 done')\n",
    "\n",
    "        x = self.downsample2(x)\n",
    "        # print('downsample2 done',x.shape)\n",
    "        x = self.inception7(x)\n",
    "        # print('inception7 done')\n",
    "\n",
    "        x = self.inception8(x)\n",
    "        # print('inception8 done')\n",
    "\n",
    "        x = self.global_pool(x)\n",
    "        # print('global_pool done')\n",
    "        # print(x.shape)\n",
    "        x = torch.flatten(x, 1)\n",
    "        x = self.fc(x)\n",
    "        return x"
   ]
  },
  {
   "cell_type": "code",
   "execution_count": 4,
   "metadata": {},
   "outputs": [
    {
     "name": "stdout",
     "output_type": "stream",
     "text": [
      "0\n",
      "1\n",
      "2\n",
      "3\n",
      "4\n",
      "5\n"
     ]
    }
   ],
   "source": [
    "norm = np.zeros(len(sub_folder))\n",
    "for i in range(len(sub_folder)):\n",
    "    print(i)\n",
    "    directory = dir00 + os.sep + sub_folder[i]\n",
    "    weights_dir = directory + os.sep + file_weights\n",
    "    results_dir = directory + os.sep + file_results\n",
    "\n",
    "    with open(results_dir,'rb') as f:\n",
    "        results = pickle.load(f)\n",
    "    model = InceptionSmall(3)\n",
    "    model.load_state_dict(torch.load(weights_dir,weights_only=True))\n",
    "\n",
    "    for param in model.parameters():\n",
    "        norm[i] +=np.sum(torch.detach(param).numpy()**2)\n",
    "norm = norm/np.sqrt(50000)"
   ]
  },
  {
   "cell_type": "code",
   "execution_count": 5,
   "metadata": {},
   "outputs": [
    {
     "data": {
      "text/plain": [
       "[<matplotlib.lines.Line2D at 0x7fd94f34e9b0>]"
      ]
     },
     "execution_count": 5,
     "metadata": {},
     "output_type": "execute_result"
    },
    {
     "data": {
      "image/png": "[encoded data removed]",
      "text/plain": [
       "<Figure size 640x480 with 1 Axes>"
      ]
     },
     "metadata": {},
     "output_type": "display_data"
    }
   ],
   "source": [
    "plt.plot(norm)"
   ]
  },
  {
   "cell_type": "code",
   "execution_count": 6,
   "metadata": {},
   "outputs": [
    {
     "data": {
      "text/plain": [
       "array([ 23.68882737, 114.25461828, 160.03007391, 207.21161965,\n",
       "       228.48879965, 218.92818736])"
      ]
     },
     "execution_count": 6,
     "metadata": {},
     "output_type": "execute_result"
    }
   ],
   "source": [
    "norm"
   ]
  },
  {
   "cell_type": "code",
   "execution_count": null,
   "metadata": {},
   "outputs": [],
   "source": []
  }
 ],
 "metadata": {
  "kernelspec": {
   "display_name": "transformer",
   "language": "python",
   "name": "python3"
  },
  "language_info": {
   "codemirror_mode": {
    "name": "ipython",
    "version": 3
   },
   "file_extension": ".py",
   "mimetype": "text/x-python",
   "name": "python",
   "nbconvert_exporter": "python",
   "pygments_lexer": "ipython3",
   "version": "3.10.13"
  }
 },
 "nbformat": 4,
 "nbformat_minor": 2
}
