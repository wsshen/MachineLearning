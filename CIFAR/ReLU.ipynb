{
 "cells": [
  {
   "cell_type": "code",
   "execution_count": 46,
   "metadata": {},
   "outputs": [],
   "source": [
    "import os\n",
    "import torch\n",
    "import glob\n",
    "import numpy as np"
   ]
  },
  {
   "cell_type": "code",
   "execution_count": 142,
   "metadata": {},
   "outputs": [],
   "source": [
    "directory = '/home/watson/Documents/CIFAR/cifar-10-python/cifar-10-batches-py'\n",
    "data_prefix = 'data'\n",
    "test_prefix = 'test'\n",
    "num_channels = 3"
   ]
  },
  {
   "cell_type": "code",
   "execution_count": 163,
   "metadata": {},
   "outputs": [],
   "source": [
    "def unpickle(file):\n",
    "    import pickle\n",
    "    with open(file, 'rb') as fo:\n",
    "        dict = pickle.load(fo, encoding='bytes')\n",
    "    return dict\n",
    "\n",
    "def changeDimension(x):\n",
    "    \n",
    "    assert isinstance(x,list),'x must be list type'\n",
    "    np_x = np.array(x)\n",
    "    print(np_x.shape)\n",
    "    sp = np_x.shape\n",
    "    size_per_channel = sp[-1]/num_channels\n",
    "    len_per_side = int(np.sqrt(size_per_channel))\n",
    "    if len(sp) == 2:\n",
    "        new_array = np.reshape(np_x,(sp[0]*sp[1]))\n",
    "    if len(sp) == 3:\n",
    "        new_array = np.reshape(np_x,(sp[0]*sp[1],num_channels,len_per_side,len_per_side))\n",
    "\n",
    "    \n",
    "\n",
    "    return new_array\n",
    "\n"
   ]
  },
  {
   "cell_type": "code",
   "execution_count": null,
   "metadata": {},
   "outputs": [],
   "source": [
    "def center_crop(x,c_x=28,c_y=28):\n",
    "    sp = x.shape\n",
    "\n",
    "    start_x = (len_per_side - c_x)//2\n",
    "    stop_x = start_x + c_x\n",
    "    start_y = (len_per_side-c_y)//2\n",
    "    stop_y = start_y + c_y\n",
    "    image_three = []\n",
    "    for i in range(sp[0]):\n",
    "        for j in range(num_channels):\n",
    "            image = \n",
    "            \n",
    "    return y\n",
    "\n",
    "def preprocessing(x):\n",
    "    normalize()\n",
    "    center_crop()\n",
    "    whitening()\n",
    "    return x"
   ]
  },
  {
   "cell_type": "code",
   "execution_count": 164,
   "metadata": {},
   "outputs": [],
   "source": [
    "training_files = glob.glob(directory+os.sep+data_prefix+'*')\n",
    "test_files = glob.glob(directory+os.sep+test_prefix+'*')"
   ]
  },
  {
   "cell_type": "code",
   "execution_count": 165,
   "metadata": {},
   "outputs": [],
   "source": [
    "training_raw_images = []\n",
    "training_labels = []\n",
    "\n",
    "test_raw_images = []\n",
    "test_labels = []"
   ]
  },
  {
   "cell_type": "code",
   "execution_count": 166,
   "metadata": {},
   "outputs": [],
   "source": [
    "for file in training_files:\n",
    "    batch_dict = unpickle(file)\n",
    "    training_raw_images.append(batch_dict[b'data'])\n",
    "    training_labels.append(batch_dict[b'labels'])\n",
    "for file in test_files:\n",
    "    batch_dict = unpickle(file)\n",
    "    test_raw_images.append(batch_dict[b'data'])\n",
    "    test_labels.append(batch_dict[b'labels'])"
   ]
  },
  {
   "cell_type": "code",
   "execution_count": 167,
   "metadata": {},
   "outputs": [
    {
     "name": "stdout",
     "output_type": "stream",
     "text": [
      "(5, 10000, 3072)\n",
      "(5, 10000)\n",
      "(1, 10000, 3072)\n",
      "(1, 10000)\n"
     ]
    }
   ],
   "source": [
    "training_raw_images = changeDimension(training_raw_images)\n",
    "training_labels = changeDimension(training_labels)\n",
    "test_raw_images = changeDimension(test_raw_images)\n",
    "test_labels = changeDimension(test_labels)"
   ]
  },
  {
   "cell_type": "code",
   "execution_count": 169,
   "metadata": {},
   "outputs": [
    {
     "name": "stdout",
     "output_type": "stream",
     "text": [
      "(50000,)\n"
     ]
    }
   ],
   "source": [
    "print(training_labels.shape)"
   ]
  },
  {
   "cell_type": "code",
   "execution_count": 141,
   "metadata": {},
   "outputs": [
    {
     "data": {
      "text/plain": [
       "32.0"
      ]
     },
     "execution_count": 141,
     "metadata": {},
     "output_type": "execute_result"
    }
   ],
   "source": [
    "np.sqrt(1024)"
   ]
  },
  {
   "cell_type": "code",
   "execution_count": null,
   "metadata": {},
   "outputs": [],
   "source": []
  }
 ],
 "metadata": {
  "kernelspec": {
   "display_name": "transformer",
   "language": "python",
   "name": "python3"
  },
  "language_info": {
   "codemirror_mode": {
    "name": "ipython",
    "version": 3
   },
   "file_extension": ".py",
   "mimetype": "text/x-python",
   "name": "python",
   "nbconvert_exporter": "python",
   "pygments_lexer": "ipython3",
   "version": "3.10.13"
  }
 },
 "nbformat": 4,
 "nbformat_minor": 2
}
