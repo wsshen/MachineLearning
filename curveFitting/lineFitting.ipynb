{
 "cells": [
  {
   "cell_type": "code",
   "execution_count": null,
   "metadata": {},
   "outputs": [],
   "source": [
    "import os\n",
    "import matplotlib.pyplot as plt\n",
    "import numpy as np\n",
    "%matplotlib inline\n",
    "plt.style.use('ggplot')\n",
    "np.random.seed(1232)\n",
    "np.set_printoptions(formatter={'all':lambda x: '%.3f' % x})"
   ]
  },
  {
   "cell_type": "code",
   "execution_count": null,
   "metadata": {},
   "outputs": [],
   "source": [
    "from scipy.optimize import minimize\n",
    "from scipy.stats import bernoulli, binom,uniform\n",
    "from scipy.special import comb\n",
    "from scipy.stats import binom, bernoulli"
   ]
  },
  {
   "cell_type": "code",
   "execution_count": null,
   "metadata": {},
   "outputs": [],
   "source": [
    "x = np.random.uniform(-5,5,100)\n",
    "noise = np.random.uniform(-0.2,0.2,100)"
   ]
  },
  {
   "cell_type": "code",
   "execution_count": null,
   "metadata": {},
   "outputs": [],
   "source": [
    "a = 2\n",
    "b = 0.5\n",
    "c = 2\n",
    "y = a/(1+np.exp(-b*(x-c))) +noise"
   ]
  },
  {
   "cell_type": "code",
   "execution_count": null,
   "metadata": {},
   "outputs": [],
   "source": [
    "plt.plot(x,y,'o') "
   ]
  },
  {
   "cell_type": "code",
   "execution_count": null,
   "metadata": {},
   "outputs": [],
   "source": [
    "# def squaredsum(params,x,y):\n",
    "#     return np.sum((y-x*params[0]-params[1])**2)\n",
    "\n",
    "fan = lambda a: np.sum((y-a[0]*x-a[1])**2)\n",
    "minimize(fan,[1,1])"
   ]
  },
  {
   "cell_type": "code",
   "execution_count": null,
   "metadata": {},
   "outputs": [],
   "source": [
    "def squaredsum(params,x,y):\n",
    "    return np.sum((y-(params[0]*x**2+params[1]*x+params[2]))**2)\n",
    "results = minimize(squaredsum,[1,1,1],args = (x,y),method = 'Nelder-Mead')"
   ]
  },
  {
   "cell_type": "code",
   "execution_count": null,
   "metadata": {},
   "outputs": [],
   "source": [
    "def squaredsum(params,x,y):\n",
    "    return np.sum((y-(params[0]/(1+np.exp(-params[1]*(x-params[2])))))**2)\n",
    "# fun = lambda a: np.sum((y-(a[0]/(1+np.exp(-a[1]*(x-a[2])))))**2)\n",
    "results = minimize(squaredsum,(1,1,1),args=(x,y),method = 'Nelder-Mead')"
   ]
  },
  {
   "cell_type": "code",
   "execution_count": null,
   "metadata": {},
   "outputs": [],
   "source": [
    "y_pred = (results.x[0]/(1+np.exp(-results.x[1]*(x-results.x[2]))))\n",
    "plt.plot(x,y_pred,'bo')\n",
    "plt.plot(x,y,'o')"
   ]
  },
  {
   "cell_type": "code",
<<<<<<< HEAD
   "execution_count": null,
   "metadata": {},
   "outputs": [],
   "source": []
=======
   "execution_count": 136,
   "metadata": {},
   "outputs": [],
   "source": [
    "# Rosenbrock function\n",
    "fun = lambda x: (0.1-x[0])**2+100*(x[1]-x[0]**2)**2\n",
    "\n",
    "results = minimize(fun,(1,1),method = 'Nelder-Mead')"
   ]
  },
  {
   "cell_type": "code",
   "execution_count": 137,
   "metadata": {},
   "outputs": [
    {
     "data": {
      "text/plain": [
       "       message: Optimization terminated successfully.\n",
       "       success: True\n",
       "        status: 0\n",
       "           fun: 1.507943519514067e-09\n",
       "             x: [ 1.000e-01  9.996e-03]\n",
       "           nit: 59\n",
       "          nfev: 108\n",
       " final_simplex: (array([[ 1.000e-01,  9.996e-03],\n",
       "                       [ 9.992e-02,  9.984e-03],\n",
       "                       [ 1.000e-01,  1.001e-02]]), array([ 1.508e-09,  7.246e-09,  1.054e-08]))"
      ]
     },
     "execution_count": 137,
     "metadata": {},
     "output_type": "execute_result"
    }
   ],
   "source": [
    "results"
   ]
>>>>>>> 91930fc5746a67b016b4924d04a0a2cbe72ae3df
  }
 ],
 "metadata": {
  "kernelspec": {
   "display_name": "transformer",
   "language": "python",
   "name": "python3"
  },
  "language_info": {
   "codemirror_mode": {
    "name": "ipython",
    "version": 3
   },
   "file_extension": ".py",
   "mimetype": "text/x-python",
   "name": "python",
   "nbconvert_exporter": "python",
   "pygments_lexer": "ipython3",
   "version": "3.10.13"
  }
 },
 "nbformat": 4,
 "nbformat_minor": 2
}
