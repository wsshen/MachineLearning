{
 "cells": [
  {
   "cell_type": "code",
   "execution_count": 1,
   "metadata": {},
   "outputs": [],
   "source": [
    "import numpy as np"
   ]
  },
  {
   "cell_type": "code",
   "execution_count": 2,
   "metadata": {},
   "outputs": [
    {
     "name": "stdout",
     "output_type": "stream",
     "text": [
      "Predicted state:\n",
      " [[1.5]\n",
      " [2. ]]\n",
      "Updated state:\n",
      " [[1.125]\n",
      " [1.875]]\n"
     ]
    }
   ],
   "source": [
    "class KalmanFilter:\n",
    "    def __init__(self, F, B, H, Q, R, x0, P0):\n",
    "        self.F = F  # State transition model\n",
    "        self.B = B  \n",
    "        self.H = H  \n",
    "        self.Q = Q  \n",
    "        self.R = R  \n",
    "        self.x = x0  \n",
    "        self.P = P0  \n",
    "    def predict(self, u):\n",
    "        # Predict the state and state covariance\n",
    "        self.x = np.dot(self.F, self.x) + np.dot(self.B, u)\n",
    "        self.P = np.dot(np.dot(self.F, self.P), self.F.T) + self.Q\n",
    "        return self.x\n",
    "    def update(self, z):\n",
    "        # Compute the Kalman gain\n",
    "        S = np.dot(np.dot(self.H, self.P), self.H.T) + self.R\n",
    "        K = np.dot(np.dot(self.P, self.H.T), np.linalg.inv(S))      \n",
    "        # Update the state estimate and covariance matrix\n",
    "        y = z - np.dot(self.H, self.x)  \n",
    "        self.x = self.x + np.dot(K, y)\n",
    "        I = np.eye(self.P.shape[0])\n",
    "        self.P = np.dot(np.dot(I - np.dot(K, self.H), self.P), (I - np.dot(K, self.H)).T) + np.dot(np.dot(K, self.R), K.T)\n",
    "        return self.x\n",
    "# Example usage\n",
    "F = np.array([[1, 1], [0, 1]]) \n",
    "B = np.array([[0.5], [1]])     \n",
    "H = np.array([[1, 0]])         \n",
    "Q = np.array([[1, 0], [0, 1]]) \n",
    "R = np.array([[1]])             \n",
    "# Initial state and covariance\n",
    "x0 = np.array([[0], [1]]) \n",
    "P0 = np.array([[1, 0], [0, 1]]) \n",
    "# Create Kalman Filter instance\n",
    "kf = KalmanFilter(F, B, H, Q, R, x0, P0)\n",
    "# Predict and update with the control input and measurement\n",
    "u = np.array([[1]])  \n",
    "z = np.array([[1]]) \n",
    "# Predict step\n",
    "predicted_state = kf.predict(u)\n",
    "print(\"Predicted state:\\n\", predicted_state)\n",
    "# Update step\n",
    "updated_state = kf.update(z)\n",
    "print(\"Updated state:\\n\", updated_state)"
   ]
  },
  {
   "cell_type": "code",
   "execution_count": null,
   "metadata": {},
   "outputs": [],
   "source": []
  }
 ],
 "metadata": {
  "kernelspec": {
   "display_name": "transformer",
   "language": "python",
   "name": "python3"
  },
  "language_info": {
   "codemirror_mode": {
    "name": "ipython",
    "version": 3
   },
   "file_extension": ".py",
   "mimetype": "text/x-python",
   "name": "python",
   "nbconvert_exporter": "python",
   "pygments_lexer": "ipython3",
   "version": "3.10.13"
  }
 },
 "nbformat": 4,
 "nbformat_minor": 2
}
