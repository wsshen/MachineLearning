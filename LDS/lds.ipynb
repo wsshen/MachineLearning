{
 "cells": [
  {
   "cell_type": "code",
   "execution_count": null,
   "metadata": {},
   "outputs": [],
   "source": [
    "import numpy as np"
   ]
  },
  {
   "cell_type": "code",
   "execution_count": null,
   "metadata": {},
   "outputs": [],
   "source": [
    "class KalmanFilter(object):\n",
    "    def __init__(self, A = None, B = None, C = None, Gamma = None, Sigma = None, P = None, z0 = None):\n",
    "\n",
    "        if(A is None or C is None):\n",
    "            raise ValueError(\"Set proper system dynamics.\")\n",
    "\n",
    "        self.n = A.shape[1]\n",
    "        self.k = C.shape[1]\n",
    "\n",
    "        self.A = A\n",
    "        self.C = C\n",
    "        self.B = 0 if B is None else B\n",
    "        self.Gamma = np.eye(self.n) if Gamma is None else Gamma\n",
    "        self.Sigma = np.eye(self.n) if Sigma is None else Sigma\n",
    "        self.P = np.eye(self.n) if P is None else P\n",
    "        self.z = np.zeros((self.n, 1)) if z0 is None else z0\n",
    "\n",
    "    def predict(self, u = 0):\n",
    "        self.z = np.dot(self.A, self.z) + np.dot(self.B, u)\n",
    "        self.P = np.dot(np.dot(self.A, self.P), self.A.T) + self.Gamma\n",
    "        return self.z\n",
    "\n",
    "    def update(self, z):\n",
    "        y = z - np.dot(self.C, self.z)\n",
    "        \n",
    "        S = self.Sigma + np.dot(self.C, np.dot(self.P, self.C.T))\n",
    "        K = np.dot(np.dot(self.P, self.C.T), np.linalg.inv(S))\n",
    "        self.z = self.z + np.dot(K, y)\n",
    "\n",
    "        I = np.eye(self.n)\n",
    "        # self.P = np.dot(I - np.dot(K, self.C), self.P)\n",
    "        self.P = np.dot(np.dot(I - np.dot(K, self.C), self.P), \n",
    "        \t(I - np.dot(K, self.C)).T) + np.dot(np.dot(K, self.Sigma), K.T)\n",
    "\n",
    "def example():\n",
    "\tdt = 1.0/60\n",
    "\tA = np.array([[1, dt, 0], [0, 1, dt], [0, 0, 1]])\n",
    "\tC = np.array([1, 0, 0]).reshape(1, 3)\n",
    "\tGamma = np.array([[0.05, 0.05, 0.0], [0.05, 0.05, 0.0], [0.0, 0.0, 0.0]])\n",
    "\tSigma = np.array([0.5]).reshape(1, 1)\n",
    "\n",
    "\tx = np.linspace(-10, 10, 100)\n",
    "\tmeasurements = - (x**2 + 2*x - 2)  + np.random.normal(0, 2, 100)\n",
    "\n",
    "\tkf = KalmanFilter(A = A, C = C, Gamma = Gamma, Sigma = Sigma)\n",
    "\tpredictions = []\n",
    "\n",
    "\tfor z in measurements:\n",
    "\t\tpredictions.append(np.dot(C,  kf.predict())[0])\n",
    "\t\tkf.update(z)\n",
    "\n",
    "\timport matplotlib.pyplot as plt\n",
    "\tplt.plot(range(len(measurements)), measurements, label = 'Measurements')\n",
    "\tplt.plot(range(len(predictions)), np.array(predictions), label = 'Kalman Filter Prediction')\n",
    "\tplt.legend()\n",
    "\tplt.show()\n",
    "\n",
    "if __name__ == '__main__':\n",
    "    example()"
   ]
  }
 ],
 "metadata": {
  "kernelspec": {
   "display_name": "transformer",
   "language": "python",
   "name": "python3"
  },
  "language_info": {
   "name": "python",
   "version": "3.10.13"
  }
 },
 "nbformat": 4,
 "nbformat_minor": 2
}
