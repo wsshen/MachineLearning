{
 "cells": [
  {
   "cell_type": "code",
   "execution_count": 1,
   "metadata": {},
   "outputs": [],
   "source": [
    "import numpy as np\n",
    "import pandas as pd\n",
    "import matplotlib.pyplot as plt\n",
    "from sklearn.preprocessing import OrdinalEncoder\n",
    "from sklearn import linear_model\n",
    "from sklearn.model_selection import train_test_split\n",
    "from sklearn.metrics import mean_squared_error\n",
    "from sklearn.impute import SimpleImputer\n"
   ]
  },
  {
   "cell_type": "code",
   "execution_count": 2,
   "metadata": {},
   "outputs": [],
   "source": [
    "dir = '/Users/shenwang/Documents/playground-series-s5e4'\n",
    "trainFileName = 'train.csv'\n",
    "testFileName = 'test.csv'"
   ]
  },
  {
   "cell_type": "code",
   "execution_count": 3,
   "metadata": {},
   "outputs": [],
   "source": [
    "train_data = pd.read_csv(f'{dir}/{trainFileName}')\n",
    "submit_test_data = pd.read_csv(f'{dir}/{testFileName}')"
   ]
  },
  {
   "cell_type": "code",
   "execution_count": 4,
   "metadata": {},
   "outputs": [],
   "source": [
    "def preprocess(raw_data):\n",
    "    new_data = raw_data.copy()\n",
    "\n",
    "    for column in raw_data:\n",
    "        if column == 'id':\n",
    "            new_data.drop(columns=[column], inplace=True)\n",
    "            print(f'dropping {column}')\n",
    "            continue\n",
    "        if new_data[column].dtype == 'object':\n",
    "            print(f'{column} is categorical')\n",
    "\n",
    "            encoder = OrdinalEncoder()\n",
    "            new_data[column] = encoder.fit_transform(new_data[[column]])\n",
    "        else:\n",
    "            print(f'{column} is numerical')\n",
    "    return new_data"
   ]
  },
  {
   "cell_type": "code",
   "execution_count": 16,
   "metadata": {},
   "outputs": [
    {
     "name": "stdout",
     "output_type": "stream",
     "text": [
      "dropping id\n",
      "Podcast_Name is categorical\n",
      "Episode_Title is categorical\n",
      "Episode_Length_minutes is numerical\n",
      "Genre is categorical\n",
      "Host_Popularity_percentage is numerical\n",
      "Publication_Day is categorical\n",
      "Publication_Time is categorical\n",
      "Guest_Popularity_percentage is numerical\n",
      "Number_of_Ads is numerical\n",
      "Episode_Sentiment is categorical\n",
      "Listening_Time_minutes is numerical\n"
     ]
    }
   ],
   "source": [
    "new_train_data = preprocess(train_data)\n",
    "imp_mean = SimpleImputer(missing_values=np.nan, strategy='mean')\n",
    "X_data = new_train_data.drop(columns=['Listening_Time_minutes'])\n",
    "y_data = new_train_data['Listening_Time_minutes']\n",
    "X_data = imp_mean.fit_transform(X_data)"
   ]
  },
  {
   "cell_type": "code",
   "execution_count": 20,
   "metadata": {},
   "outputs": [
    {
     "name": "stdout",
     "output_type": "stream",
     "text": [
      "0          31.41998\n",
      "1          88.01241\n",
      "2          44.92531\n",
      "3          46.27824\n",
      "4          75.61031\n",
      "            ...    \n",
      "749995     56.87058\n",
      "749996     45.46242\n",
      "749997     15.26000\n",
      "749998    100.72939\n",
      "749999     11.94439\n",
      "Name: Listening_Time_minutes, Length: 750000, dtype: float64\n"
     ]
    }
   ],
   "source": [
    "print(y_data)"
   ]
  },
  {
   "cell_type": "code",
   "execution_count": 21,
   "metadata": {},
   "outputs": [
    {
     "name": "stdout",
     "output_type": "stream",
     "text": [
      "Mean squared error: 178.49799605494334\n"
     ]
    }
   ],
   "source": [
    "X_train, X_test, y_train, y_test = train_test_split(X_data, y_data, test_size=0.2, random_state=42)\n",
    "reg = linear_model.LinearRegression()\n",
    "reg.fit(X_train, y_train)\n",
    "y_pred = reg.predict(X_test)\n",
    "print(f'Mean squared error: {mean_squared_error(y_test, y_pred)}')"
   ]
  },
  {
   "cell_type": "code",
   "execution_count": 15,
   "metadata": {},
   "outputs": [
    {
     "name": "stdout",
     "output_type": "stream",
     "text": [
      "        Podcast_Name  Episode_Title  Episode_Length_minutes  Genre  \\\n",
      "453635          44.0           80.0                   94.30    9.0   \n",
      "11651           26.0           49.0                   82.15    2.0   \n",
      "431999          43.0           14.0                   13.72    8.0   \n",
      "529211          25.0           99.0                   24.00    1.0   \n",
      "110925           0.0            7.0                     NaN    7.0   \n",
      "...              ...            ...                     ...    ...   \n",
      "259178           5.0           69.0                   42.65    9.0   \n",
      "365838           3.0           63.0                   94.50    0.0   \n",
      "131932          30.0           10.0                   61.54    5.0   \n",
      "671155           2.0           20.0                   87.86    0.0   \n",
      "121958          19.0           99.0                     NaN    3.0   \n",
      "\n",
      "        Host_Popularity_percentage  Publication_Day  Publication_Time  \\\n",
      "453635                       97.67              0.0               0.0   \n",
      "11651                        94.78              2.0               3.0   \n",
      "431999                       68.60              2.0               0.0   \n",
      "529211                       42.14              2.0               2.0   \n",
      "110925                       34.10              0.0               3.0   \n",
      "...                            ...              ...               ...   \n",
      "259178                       80.53              0.0               0.0   \n",
      "365838                       42.80              0.0               0.0   \n",
      "131932                       63.97              4.0               0.0   \n",
      "671155                       75.76              6.0               3.0   \n",
      "121958                       68.21              5.0               1.0   \n",
      "\n",
      "        Guest_Popularity_percentage  Number_of_Ads  Episode_Sentiment  \n",
      "453635                          NaN            2.0                2.0  \n",
      "11651                           NaN            1.0                2.0  \n",
      "431999                        65.77            3.0                0.0  \n",
      "529211                        41.29            0.0                0.0  \n",
      "110925                          NaN            0.0                1.0  \n",
      "...                             ...            ...                ...  \n",
      "259178                        96.31            3.0                0.0  \n",
      "365838                         8.68            3.0                2.0  \n",
      "131932                        62.82            2.0                0.0  \n",
      "671155                        74.87            0.0                2.0  \n",
      "121958                          NaN            0.0                0.0  \n",
      "\n",
      "[600000 rows x 10 columns]\n"
     ]
    }
   ],
   "source": [
    "print(X_train)"
   ]
  },
  {
   "cell_type": "markdown",
   "metadata": {},
   "source": []
  }
 ],
 "metadata": {
  "kernelspec": {
   "display_name": "ml",
   "language": "python",
   "name": "python3"
  },
  "language_info": {
   "codemirror_mode": {
    "name": "ipython",
    "version": 3
   },
   "file_extension": ".py",
   "mimetype": "text/x-python",
   "name": "python",
   "nbconvert_exporter": "python",
   "pygments_lexer": "ipython3",
   "version": "3.12.2"
  }
 },
 "nbformat": 4,
 "nbformat_minor": 2
}
