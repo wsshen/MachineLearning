{
 "cells": [
  {
   "cell_type": "code",
   "execution_count": 13,
   "metadata": {},
   "outputs": [],
   "source": [
    "import numpy as np\n",
    "import pandas as pd\n",
    "import matplotlib.pyplot as plt\n",
    "from sklearn.preprocessing import OrdinalEncoder"
   ]
  },
  {
   "cell_type": "code",
   "execution_count": 2,
   "metadata": {},
   "outputs": [],
   "source": [
    "dir = '/Users/shenwang/Documents/playground-series-s5e4'\n",
    "fileName = 'train.csv'"
   ]
  },
  {
   "cell_type": "code",
   "execution_count": 4,
   "metadata": {},
   "outputs": [],
   "source": [
    "data = pd.read_csv(f'{dir}/{fileName}')"
   ]
  },
  {
   "cell_type": "code",
   "execution_count": 21,
   "metadata": {},
   "outputs": [],
   "source": [
    "def preprocess(raw_data):\n",
    "    new_data = raw_data.copy()\n",
    "\n",
    "    for column in raw_data:\n",
    "        if column == 'id':\n",
    "            new_data.drop(columns=[column], inplace=True)\n",
    "            print(f'dropping {column}')\n",
    "            continue\n",
    "        if data[column].dtype == 'object':\n",
    "            print(f'{column} is categorical')\n",
    "\n",
    "            encoder = OrdinalEncoder()\n",
    "            new_data[column] = encoder.fit_transform(new_data[[column]])\n",
    "        else:\n",
    "            print(f'{column} is numerical')\n",
    "    return new_data"
   ]
  },
  {
   "cell_type": "code",
   "execution_count": 22,
   "metadata": {},
   "outputs": [
    {
     "name": "stdout",
     "output_type": "stream",
     "text": [
      "dropping id\n",
      "Podcast_Name is categorical\n",
      "Episode_Title is categorical\n",
      "Episode_Length_minutes is numerical\n",
      "Genre is categorical\n",
      "Host_Popularity_percentage is numerical\n",
      "Publication_Day is categorical\n",
      "Publication_Time is categorical\n",
      "Guest_Popularity_percentage is numerical\n",
      "Number_of_Ads is numerical\n",
      "Episode_Sentiment is categorical\n",
      "Listening_Time_minutes is numerical\n"
     ]
    }
   ],
   "source": [
    "new_data = preprocess(data)"
   ]
  },
  {
   "cell_type": "code",
   "execution_count": null,
   "metadata": {},
   "outputs": [],
   "source": []
  }
 ],
 "metadata": {
  "kernelspec": {
   "display_name": "ml",
   "language": "python",
   "name": "python3"
  },
  "language_info": {
   "codemirror_mode": {
    "name": "ipython",
    "version": 3
   },
   "file_extension": ".py",
   "mimetype": "text/x-python",
   "name": "python",
   "nbconvert_exporter": "python",
   "pygments_lexer": "ipython3",
   "version": "3.12.2"
  }
 },
 "nbformat": 4,
 "nbformat_minor": 2
}
