{
 "cells": [
  {
   "cell_type": "code",
   "execution_count": 1,
   "metadata": {},
   "outputs": [],
   "source": [
    "import os\n",
    "import matplotlib.pyplot as plt\n",
    "import numpy as np\n",
    "%matplotlib inline\n",
    "plt.style.use('ggplot')\n",
    "np.random.seed(1232)\n",
    "np.set_printoptions(formatter={'all':lambda x: '%.3f' % x})"
   ]
  },
  {
   "cell_type": "code",
   "execution_count": 2,
   "metadata": {},
   "outputs": [],
   "source": [
    "from scipy.optimize import minimize\n",
    "from scipy.stats import bernoulli, binom,uniform\n",
    "from scipy.special import comb\n",
    "from scipy.stats import binom, bernoulli"
   ]
  },
  {
   "cell_type": "code",
   "execution_count": 3,
   "metadata": {},
   "outputs": [],
   "source": [
    "from keras.datasets import mnist"
   ]
  },
  {
   "cell_type": "code",
   "execution_count": 4,
   "metadata": {},
   "outputs": [],
   "source": [
    "(train_X, train_y), (test_X, test_y) = mnist.load_data()\n",
    "train_X = np.where(train_X>0.5,1,0)"
   ]
  },
  {
   "cell_type": "code",
   "execution_count": 86,
   "metadata": {},
   "outputs": [],
   "source": [
    "n = 60\n",
    "m = n *3\n",
    "sz = 28\n",
    "\n",
    "tol = 0.01\n",
    "max_iter = 100\n",
    "phi = [0.33,0.33,0.33]\n",
    "elbo_old = -1000000\n",
    "\n",
    "x = np.array([train_X[np.where(train_y==7)[0][0:n],:,:],\n",
    "                train_X[np.where(train_y==9)[0][0:n],:,:],\n",
    "                train_X[np.where(train_y==2)[0][0:n],:,:]])\n",
    "x = x.reshape(m,sz*sz,order='C')\n",
    "\n",
    "uni_model = uniform(loc=0.25,scale=0.5)\n",
    "thetas = np.array([uni_model.rvs(size=sz*sz),\n",
    "                   uni_model.rvs(size=sz*sz),\n",
    "                   uni_model.rvs(size=sz*sz)])\n",
    "dummy = np.sum(thetas,axis=1)\n",
    "thetas = thetas/dummy[:,np.newaxis]\n"
   ]
  },
  {
   "cell_type": "code",
   "execution_count": 63,
   "metadata": {},
   "outputs": [],
   "source": [
    "# for i in range(3):  \n",
    "#     ax = plt.subplot(1,3,i+1)\n",
    "#     ax.imshow(x[i,i], cmap=plt.get_cmap('gray'))\n",
    "# plt.show()\n",
    "# dummy = x.reshape(m,sz,sz,order='C')\n",
    "# print(dummy.shape)\n",
    "# plt.imshow(dummy[60,:],cmap=plt.get_cmap('gray'))"
   ]
  },
  {
   "cell_type": "code",
   "execution_count": 90,
   "metadata": {},
   "outputs": [
    {
     "name": "stderr",
     "output_type": "stream",
     "text": [
      "/var/folders/7n/2hstn0kx2mvgvjzthjfyy7280000gn/T/ipykernel_30945/1408466751.py:13: RuntimeWarning: overflow encountered in exp\n",
      "  w_1 = 1/(1+ np.exp(ll_2-ll_1) + np.exp(ll_3-ll_1))\n",
      "/var/folders/7n/2hstn0kx2mvgvjzthjfyy7280000gn/T/ipykernel_30945/1408466751.py:14: RuntimeWarning: overflow encountered in exp\n",
      "  w_2 = 1/(1+ np.exp(ll_1-ll_2) + np.exp(ll_3-ll_2))\n"
     ]
    }
   ],
   "source": [
    "ll_1 =  np.log(thetas[0,:])*x + np.log(1-thetas[0,:])*(1-x) + np.log(phi[0])\n",
    "ll_2 =  np.log(thetas[1,:])*x + np.log(1-thetas[1,:])*(1-x) + np.log(phi[1])\n",
    "ll_3 =  np.log(thetas[2,:])*x + np.log(1-thetas[2,:])*(1-x) + np.log(phi[2])\n",
    "\n",
    "\n",
    "\n",
    "ll_1 = np.sum(ll_1,axis=1)\n",
    "ll_2 = np.sum(ll_2,axis=1)\n",
    "ll_3 = np.sum(ll_3,axis=1)\n",
    "\n",
    "# denom = np.exp(ll_1) + np.exp(ll_2) + np.exp(ll_3)\n",
    "\n",
    "w_1 = 1/(1+ np.exp(ll_2-ll_1) + np.exp(ll_3-ll_1))\n",
    "w_2 = 1/(1+ np.exp(ll_1-ll_2) + np.exp(ll_3-ll_2))\n",
    "w_3 = 1/(1+ np.exp(ll_2-ll_3) + np.exp(ll_1-ll_3))\n",
    "# w_1 = np.exp(ll_1)/denom\n",
    "# w_2 = np.exp(ll_2)/denom\n",
    "# w_3 = np.exp(ll_3)/denom\n",
    "\n"
   ]
  },
  {
   "cell_type": "code",
   "execution_count": 104,
   "metadata": {},
   "outputs": [
    {
     "data": {
      "text/plain": [
       "(180,)"
      ]
     },
     "execution_count": 104,
     "metadata": {},
     "output_type": "execute_result"
    }
   ],
   "source": [
    "ll_2.shape"
   ]
  },
  {
   "cell_type": "code",
   "execution_count": 88,
   "metadata": {},
   "outputs": [],
   "source": [
    "thetas[0,:] = np.sum(w_1[:,np.newaxis] * x,axis=0)/np.sum(w_1 ,axis=0) \n",
    "thetas[1,:] = np.sum(w_2[:,np.newaxis] * x,axis=0)/np.sum(w_2 ,axis=0) \n",
    "thetas[2,:] = np.sum(w_3[:,np.newaxis] * x,axis=0)/np.sum(w_3 ,axis=0) \n",
    "\n",
    "thetas[0,np.where(thetas[0,:]==0.0)] += 0.001\n",
    "thetas[1,np.where(thetas[1,:]==0.0)] += 0.001\n",
    "thetas[2,np.where(thetas[2,:]==0.0)] += 0.001\n",
    "\n",
    "phi[0] = np.sum(w_1)/m\n",
    "phi[1] = np.sum(w_2)/m\n",
    "phi[2] = np.sum(w_3)/m"
   ]
  },
  {
   "cell_type": "code",
   "execution_count": 106,
   "metadata": {},
   "outputs": [
    {
     "data": {
      "text/plain": [
       "0.0"
      ]
     },
     "execution_count": 106,
     "metadata": {},
     "output_type": "execute_result"
    }
   ],
   "source": [
    "np.exp(np.log(0.001)*800)"
   ]
  },
  {
   "cell_type": "code",
   "execution_count": 43,
   "metadata": {},
   "outputs": [
    {
     "name": "stdout",
     "output_type": "stream",
     "text": [
      "Iteration: 0\n",
      "ELBO is: -332147.8332625236\n",
      "Iteration: 1\n",
      "ELBO is: -106661.47241093178\n",
      "Iteration: 2\n",
      "ELBO is: nan\n",
      "Iteration: 3\n",
      "ELBO is: nan\n",
      "Iteration: 4\n",
      "ELBO is: nan\n",
      "Iteration: 5\n",
      "ELBO is: nan\n",
      "Iteration: 6\n",
      "ELBO is: nan\n",
      "Iteration: 7\n",
      "ELBO is: nan\n",
      "Iteration: 8\n",
      "ELBO is: nan\n",
      "Iteration: 9\n",
      "ELBO is: nan\n",
      "Iteration: 10\n",
      "ELBO is: nan\n",
      "Iteration: 11\n",
      "ELBO is: nan\n",
      "Iteration: 12\n",
      "ELBO is: nan\n",
      "Iteration: 13\n",
      "ELBO is: nan\n",
      "Iteration: 14\n",
      "ELBO is: nan\n",
      "Iteration: 15\n",
      "ELBO is: nan\n",
      "Iteration: 16\n",
      "ELBO is: nan\n",
      "Iteration: 17\n",
      "ELBO is: nan\n",
      "Iteration: 18\n",
      "ELBO is: nan\n",
      "Iteration: 19\n",
      "ELBO is: nan\n",
      "Iteration: 20\n",
      "ELBO is: nan\n",
      "Iteration: 21\n",
      "ELBO is: nan\n",
      "Iteration: 22\n",
      "ELBO is: nan\n",
      "Iteration: 23\n",
      "ELBO is: nan\n",
      "Iteration: 24\n",
      "ELBO is: nan\n",
      "Iteration: 25\n",
      "ELBO is: nan\n",
      "Iteration: 26\n",
      "ELBO is: nan\n",
      "Iteration: 27\n",
      "ELBO is: nan\n",
      "Iteration: 28\n",
      "ELBO is: nan\n",
      "Iteration: 29\n",
      "ELBO is: nan\n",
      "Iteration: 30\n",
      "ELBO is: nan\n",
      "Iteration: 31\n",
      "ELBO is: nan\n",
      "Iteration: 32\n",
      "ELBO is: nan\n",
      "Iteration: 33\n",
      "ELBO is: nan\n",
      "Iteration: 34\n",
      "ELBO is: nan\n",
      "Iteration: 35\n",
      "ELBO is: nan\n",
      "Iteration: 36\n",
      "ELBO is: nan\n",
      "Iteration: 37\n",
      "ELBO is: nan\n",
      "Iteration: 38\n",
      "ELBO is: nan\n",
      "Iteration: 39\n",
      "ELBO is: nan\n",
      "Iteration: 40\n",
      "ELBO is: nan\n",
      "Iteration: 41\n",
      "ELBO is: nan\n",
      "Iteration: 42\n",
      "ELBO is: nan\n",
      "Iteration: 43\n",
      "ELBO is: nan\n",
      "Iteration: 44\n",
      "ELBO is: nan\n",
      "Iteration: 45\n",
      "ELBO is: nan\n",
      "Iteration: 46\n",
      "ELBO is: nan\n",
      "Iteration: 47\n",
      "ELBO is: nan\n",
      "Iteration: 48\n",
      "ELBO is: nan\n",
      "Iteration: 49\n",
      "ELBO is: nan\n",
      "Iteration: 50\n",
      "ELBO is: nan\n",
      "Iteration: 51\n",
      "ELBO is: nan\n",
      "Iteration: 52\n",
      "ELBO is: nan\n",
      "Iteration: 53\n",
      "ELBO is: nan\n",
      "Iteration: 54\n",
      "ELBO is: nan\n",
      "Iteration: 55\n",
      "ELBO is: nan\n",
      "Iteration: 56\n",
      "ELBO is: nan\n",
      "Iteration: 57\n",
      "ELBO is: nan\n",
      "Iteration: 58\n",
      "ELBO is: nan\n",
      "Iteration: 59\n",
      "ELBO is: nan\n",
      "Iteration: 60\n",
      "ELBO is: nan\n",
      "Iteration: 61\n",
      "ELBO is: nan\n",
      "Iteration: 62\n",
      "ELBO is: nan\n",
      "Iteration: 63\n",
      "ELBO is: nan\n",
      "Iteration: 64\n",
      "ELBO is: nan\n",
      "Iteration: 65\n",
      "ELBO is: nan\n",
      "Iteration: 66\n",
      "ELBO is: nan\n",
      "Iteration: 67\n",
      "ELBO is: nan\n",
      "Iteration: 68\n",
      "ELBO is: nan\n",
      "Iteration: 69\n",
      "ELBO is: nan\n",
      "Iteration: 70\n",
      "ELBO is: nan\n",
      "Iteration: 71\n",
      "ELBO is: nan\n",
      "Iteration: 72\n",
      "ELBO is: nan\n",
      "Iteration: 73\n",
      "ELBO is: nan\n",
      "Iteration: 74\n",
      "ELBO is: nan\n",
      "Iteration: 75\n",
      "ELBO is: nan\n",
      "Iteration: 76\n",
      "ELBO is: nan\n",
      "Iteration: 77\n",
      "ELBO is: nan\n",
      "Iteration: 78\n",
      "ELBO is: nan\n",
      "Iteration: 79\n",
      "ELBO is: nan\n",
      "Iteration: 80\n",
      "ELBO is: nan\n",
      "Iteration: 81\n",
      "ELBO is: nan\n",
      "Iteration: 82\n",
      "ELBO is: nan\n",
      "Iteration: 83\n",
      "ELBO is: nan\n",
      "Iteration: 84\n",
      "ELBO is: nan\n",
      "Iteration: 85\n",
      "ELBO is: nan\n",
      "Iteration: 86\n",
      "ELBO is: nan\n",
      "Iteration: 87\n",
      "ELBO is: nan\n",
      "Iteration: 88\n",
      "ELBO is: nan\n",
      "Iteration: 89\n",
      "ELBO is: nan\n",
      "Iteration: 90\n",
      "ELBO is: nan\n",
      "Iteration: 91\n",
      "ELBO is: nan\n",
      "Iteration: 92\n",
      "ELBO is: nan\n",
      "Iteration: 93\n",
      "ELBO is: nan\n",
      "Iteration: 94\n",
      "ELBO is: nan\n",
      "Iteration: 95\n",
      "ELBO is: nan\n",
      "Iteration: 96\n",
      "ELBO is: nan\n",
      "Iteration: 97\n",
      "ELBO is: nan\n",
      "Iteration: 98\n",
      "ELBO is: nan\n",
      "Iteration: 99\n",
      "ELBO is: nan\n"
     ]
    },
    {
     "name": "stderr",
     "output_type": "stream",
     "text": [
      "/var/folders/7n/2hstn0kx2mvgvjzthjfyy7280000gn/T/ipykernel_30945/3821970397.py:18: RuntimeWarning: overflow encountered in exp\n",
      "  w_1 = 1/(1+ np.exp(ll_2-ll_1) + np.exp(ll_3-ll_1))\n",
      "/var/folders/7n/2hstn0kx2mvgvjzthjfyy7280000gn/T/ipykernel_30945/3821970397.py:20: RuntimeWarning: overflow encountered in exp\n",
      "  w_3 = 1/(1+ np.exp(ll_2-ll_3) + np.exp(ll_1-ll_3))\n",
      "/var/folders/7n/2hstn0kx2mvgvjzthjfyy7280000gn/T/ipykernel_30945/3821970397.py:27: RuntimeWarning: invalid value encountered in divide\n",
      "  thetas[0,:] = np.sum(w_1[:,np.newaxis] * x,axis=0)/np.sum(w_1 ,axis=0) + 0.0001\n",
      "/var/folders/7n/2hstn0kx2mvgvjzthjfyy7280000gn/T/ipykernel_30945/3821970397.py:29: RuntimeWarning: invalid value encountered in divide\n",
      "  thetas[2,:] = np.sum(w_3[:,np.newaxis] * x,axis=0)/np.sum(w_3,axis=0) + 0.0001\n",
      "/var/folders/7n/2hstn0kx2mvgvjzthjfyy7280000gn/T/ipykernel_30945/3821970397.py:3: RuntimeWarning: divide by zero encountered in log\n",
      "  ll_1 =  np.log(thetas[0,:])*x + np.log(1-thetas[0,:])*(1-x) + np.log(phi[0])\n",
      "/var/folders/7n/2hstn0kx2mvgvjzthjfyy7280000gn/T/ipykernel_30945/3821970397.py:5: RuntimeWarning: divide by zero encountered in log\n",
      "  ll_3 =  np.log(thetas[2,:])*x + np.log(1-thetas[2,:])*(1-x) + np.log(phi[2])\n"
     ]
    }
   ],
   "source": [
    "for i in range(max_iter):\n",
    "\n",
    "    ll_1 =  np.log(thetas[0,:])*x + np.log(1-thetas[0,:])*(1-x) + np.log(phi[0])\n",
    "    ll_2 =  np.log(thetas[1,:])*x + np.log(1-thetas[1,:])*(1-x) + np.log(phi[1])\n",
    "    ll_3 =  np.log(thetas[2,:])*x + np.log(1-thetas[2,:])*(1-x) + np.log(phi[2])\n",
    "\n",
    "    ll_1 = np.sum(ll_1,axis=1)\n",
    "    ll_2 = np.sum(ll_2,axis=1)\n",
    "    ll_3 = np.sum(ll_3,axis=1)\n",
    "\n",
    "\n",
    "    # ll_1[np.isnan(ll_1)]=-100\n",
    "    # ll_2[np.isnan(ll_2)]=-100\n",
    "    # ll_3[np.isnan(ll_3)]=-100\n",
    "\n",
    "    denom = np.exp(ll_1) + np.exp(ll_2) + np.exp(ll_3)\n",
    "\n",
    "    w_1 = 1/(1+ np.exp(ll_2-ll_1) + np.exp(ll_3-ll_1))\n",
    "    w_2 = 1/(1+ np.exp(ll_1-ll_2) + np.exp(ll_3-ll_2))\n",
    "    w_3 = 1/(1+ np.exp(ll_2-ll_3) + np.exp(ll_1-ll_3))\n",
    "    # w_1 = np.exp(ll_1)/denom\n",
    "    # w_2 = np.exp(ll_2)/denom\n",
    "    # w_3 = np.exp(ll_3)/denom\n",
    "\n",
    "    # elbo = np.sum(w_1 * ll_1 + w_2 * ll_2 + w_3 * ll_3)\n",
    "\n",
    "    thetas[0,:] = np.sum(w_1[:,np.newaxis] * x,axis=0)/np.sum(w_1 ,axis=0) + 0.0001\n",
    "    thetas[1,:] = np.sum(w_2[:,np.newaxis] * x,axis=0)/np.sum(w_2 ,axis=0) + 0.0001\n",
    "    thetas[2,:] = np.sum(w_3[:,np.newaxis] * x,axis=0)/np.sum(w_3,axis=0) + 0.0001\n",
    "\n",
    "\n",
    "    phi[0] = np.sum(w_1)/m\n",
    "    phi[1] = np.sum(w_2)/m\n",
    "    phi[2] = np.sum(w_3)/m\n",
    "\n",
    "    print(f\"Iteration: {i}\")\n",
    "    print(f\"ELBO is: {elbo}\")\n",
    "    if np.abs(elbo-elbo_old) < tol:\n",
    "        break\n",
    "    elbo_old = elbo"
   ]
  },
  {
   "cell_type": "code",
   "execution_count": null,
   "metadata": {},
   "outputs": [],
   "source": [
    "test = thetas.reshape(3,28,28)\n",
    "plt.imshow(test[0,:],cmap=plt.get_cmap('gray'))"
   ]
  },
  {
   "cell_type": "code",
   "execution_count": null,
   "metadata": {},
   "outputs": [],
   "source": [
    "test = np.where(ll_1==100)\n",
    "plt.imshow(test)"
   ]
  },
  {
   "cell_type": "code",
   "execution_count": null,
   "metadata": {},
   "outputs": [],
   "source": [
    "thetas[0]"
   ]
  },
  {
   "cell_type": "code",
   "execution_count": null,
   "metadata": {},
   "outputs": [],
   "source": [
    "w_2"
   ]
  },
  {
   "cell_type": "code",
   "execution_count": null,
   "metadata": {},
   "outputs": [],
   "source": []
  }
 ],
 "metadata": {
  "kernelspec": {
   "display_name": "transformer",
   "language": "python",
   "name": "python3"
  },
  "language_info": {
   "codemirror_mode": {
    "name": "ipython",
    "version": 3
   },
   "file_extension": ".py",
   "mimetype": "text/x-python",
   "name": "python",
   "nbconvert_exporter": "python",
   "pygments_lexer": "ipython3",
   "version": "3.12.2"
  }
 },
 "nbformat": 4,
 "nbformat_minor": 2
}
