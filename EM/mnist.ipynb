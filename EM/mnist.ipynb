{
 "cells": [
  {
   "cell_type": "code",
   "execution_count": 1,
   "metadata": {},
   "outputs": [],
   "source": [
    "import os\n",
    "import matplotlib.pyplot as plt\n",
    "import numpy as np\n",
    "%matplotlib inline\n",
    "plt.style.use('ggplot')\n",
    "np.random.seed(1232)\n",
    "np.set_printoptions(formatter={'all':lambda x: '%.3f' % x})"
   ]
  },
  {
   "cell_type": "code",
   "execution_count": 2,
   "metadata": {},
   "outputs": [],
   "source": [
    "from scipy.optimize import minimize\n",
    "from scipy.stats import bernoulli, binom,uniform\n",
    "from scipy.special import comb\n",
    "from scipy.stats import binom, bernoulli"
   ]
  },
  {
   "cell_type": "code",
   "execution_count": 3,
   "metadata": {},
   "outputs": [],
   "source": [
    "from keras.datasets import mnist\n",
    "from sklearn.utils import shuffle\n"
   ]
  },
  {
   "cell_type": "code",
   "execution_count": 4,
   "metadata": {},
   "outputs": [],
   "source": [
    "(train_X, train_y), (test_X, test_y) = mnist.load_data()\n",
    "# train_X = np.where(train_X>0.5,1,0)\n",
    "train_X = (train_X/128).astype('int')"
   ]
  },
  {
   "cell_type": "code",
   "execution_count": 10,
   "metadata": {},
   "outputs": [],
   "source": [
    "p_1 =  np.prod(thetas[0,:] ** x * (1-thetas[0,:])**(1-x), axis=1) * phi[0]\n"
   ]
  },
  {
   "cell_type": "code",
   "execution_count": 17,
   "metadata": {},
   "outputs": [
    {
     "data": {
      "text/plain": [
       "(1800,)"
      ]
     },
     "execution_count": 17,
     "metadata": {},
     "output_type": "execute_result"
    }
   ],
   "source": [
    "p_1.shape"
   ]
  },
  {
   "cell_type": "code",
   "execution_count": 5,
   "metadata": {},
   "outputs": [],
   "source": [
    "n = 600\n",
    "m = n *3\n",
    "sz = 28\n",
    "\n",
    "tol = 1e-15\n",
    "max_iter = 100\n",
    "\n",
    "initWts = np.random.uniform(.25,.75,3)\n",
    "tot = np.sum(initWts)\n",
    "initWts = initWts/tot\n",
    "phi = initWts\n",
    "\n",
    "elbo_old = -1000000\n",
    "\n",
    "x = np.array([train_X[np.where(train_y==2)[0][0:n],:,:],\n",
    "                train_X[np.where(train_y==9)[0][0:n],:,:],\n",
    "                train_X[np.where(train_y==3)[0][0:n],:,:]])\n",
    "x = x.reshape(m,sz*sz,order='C')\n",
    "x = shuffle(x)\n",
    "\n",
    "# uni_model = uniform(loc=0.25,scale=0.5)\n",
    "# thetas = np.array([uni_model.rvs(size=sz*sz),\n",
    "#                    uni_model.rvs(size=sz*sz),\n",
    "#                    uni_model.rvs(size=sz*sz)])\n",
    "# dummy = np.sum(thetas,axis=1)\n",
    "# thetas = thetas/dummy[:,np.newaxis]\n",
    "\n",
    "initMeans = np.full((3, sz*sz), 1.0/3)\n",
    "thetas = initMeans\n"
   ]
  },
  {
   "cell_type": "code",
   "execution_count": 6,
   "metadata": {},
   "outputs": [],
   "source": [
    "# for i in range(3):  \n",
    "#     ax = plt.subplot(1,3,i+1)\n",
    "#     ax.imshow(x[i,i], cmap=plt.get_cmap('gray'))\n",
    "# plt.show()\n",
    "# dummy = x.reshape(m,sz,sz,order='C')\n",
    "# print(dummy.shape)\n",
    "# plt.imshow(dummy[60,:],cmap=plt.get_cmap('gray'))"
   ]
  },
  {
   "cell_type": "code",
   "execution_count": 7,
   "metadata": {},
   "outputs": [
    {
     "name": "stdout",
     "output_type": "stream",
     "text": [
      "Iteration: 0\n",
      "ELBO is: -205255.1562498615\n",
      "Iteration: 1\n",
      "ELBO is: -205255.1562498615\n"
     ]
    }
   ],
   "source": [
    "for i in range(max_iter):\n",
    "\n",
    "    p_1 =  np.prod(thetas[0,:] ** x * (1-thetas[0,:])**(1-x), axis=1) * phi[0]\n",
    "    p_2 =  np.prod(thetas[1,:] ** x * (1-thetas[1,:])**(1-x), axis=1) * phi[1]\n",
    "    p_3 =  np.prod(thetas[2,:] ** x * (1-thetas[2,:])**(1-x), axis=1) * phi[2]\n",
    "\n",
    "    p_1 = p_1.clip(min=1e-50)\n",
    "    p_2 = p_2.clip(min=1e-50)\n",
    "    p_3 = p_3.clip(min=1e-50)\n",
    "    # p_1 = np.sum(p_1,axis=1)\n",
    "    # p_2 = np.sum(p_2,axis=1)\n",
    "    # p_3 = np.sum(p_3,axis=1)\n",
    "\n",
    "\n",
    "    # p_1[np.isnan(p_1)]=-100\n",
    "    # p_2[np.isnan(p_2)]=-100\n",
    "    # p_3[np.isnan(p_3)]=-100\n",
    "\n",
    "    # denom = np.exp(p_1) + np.exp(p_2) + np.exp(p_3)\n",
    "\n",
    "    # w_1 = 1/(1+ np.exp(p_2-p_1) + np.exp(p_3-p_1))\n",
    "    # w_2 = 1/(1+ np.exp(p_1-p_2) + np.exp(p_3-p_2))\n",
    "    # w_3 = 1/(1+ np.exp(p_2-p_3) + np.exp(p_1-p_3))\n",
    "    # w_1 = np.exp(p_1)/denom\n",
    "    # w_2 = np.exp(p_2)/denom\n",
    "    # w_3 = np.exp(p_3)/denom\n",
    "\n",
    "    w_1 = p_1/(p_1+p_2+p_3)\n",
    "    w_2 = p_2/(p_1+p_2+p_3)\n",
    "    w_3 = p_3/(p_1+p_2+p_3)\n",
    "\n",
    "\n",
    "    # elbo = np.sum(w_1 * p_1 + w_2 * p_2 + w_3 * p_3)\n",
    "\n",
    "    elbo = np.sum(w_1 * np.log(p_1/w_1) + w_2 * np.log(p_2/w_2) + w_3 * np.log(p_3/w_3))\n",
    "\n",
    "\n",
    "    # thetas[0,:] = np.sum(w_1[:,np.newaxis] * x,axis=0)/np.sum(w_1 ,axis=0) + 0.0001\n",
    "    # thetas[1,:] = np.sum(w_2[:,np.newaxis] * x,axis=0)/np.sum(w_2 ,axis=0) + 0.0001\n",
    "    # thetas[2,:] = np.sum(w_3[:,np.newaxis] * x,axis=0)/np.sum(w_3,axis=0) + 0.0001\n",
    "\n",
    "    thetas[0,:] = np.sum(w_1[:,np.newaxis]*x,axis=0) / np.sum(w_1)\n",
    "    thetas[1,:] = np.sum(w_2[:,np.newaxis]*x,axis=0) / np.sum(w_2)\n",
    "    thetas[2,:] = np.sum(w_3[:,np.newaxis]*x,axis=0) / np.sum(w_3)\n",
    "\n",
    "    phi[0] = np.sum(w_1)/m\n",
    "    phi[1] = np.sum(w_2)/m\n",
    "    phi[2] = np.sum(w_3)/m\n",
    "\n",
    "    print(f\"Iteration: {i}\")\n",
    "    print(f\"ELBO is: {elbo}\")\n",
    "    if np.abs(elbo-elbo_old) < tol:\n",
    "        break\n",
    "    elbo_old = elbo"
   ]
  },
  {
   "cell_type": "code",
   "execution_count": 8,
   "metadata": {},
   "outputs": [
    {
     "data": {
      "text/plain": [
       "<matplotlib.image.AxesImage at 0x17d2c0ce0>"
      ]
     },
     "execution_count": 8,
     "metadata": {},
     "output_type": "execute_result"
    },
    {
     "data": {
      "image/png": "[encoded data removed]",
      "text/plain": [
       "<Figure size 640x480 with 1 Axes>"
      ]
     },
     "metadata": {},
     "output_type": "display_data"
    }
   ],
   "source": [
    "test = thetas.reshape(3,28,28)\n",
    "plt.imshow(test[2,:],cmap=plt.get_cmap('gray'))"
   ]
  },
  {
   "cell_type": "code",
   "execution_count": 9,
   "metadata": {},
   "outputs": [
    {
     "data": {
      "text/plain": [
       "array([0.333, 0.333, 0.333])"
      ]
     },
     "execution_count": 9,
     "metadata": {},
     "output_type": "execute_result"
    }
   ],
   "source": [
    "phi"
   ]
  },
  {
   "cell_type": "code",
   "execution_count": null,
   "metadata": {},
   "outputs": [],
   "source": [
    "\n",
    "\n"
   ]
  },
  {
   "cell_type": "code",
   "execution_count": null,
   "metadata": {},
   "outputs": [],
   "source": []
  },
  {
   "cell_type": "code",
   "execution_count": null,
   "metadata": {},
   "outputs": [],
   "source": []
  }
 ],
 "metadata": {
  "kernelspec": {
   "display_name": "transformer",
   "language": "python",
   "name": "python3"
  },
  "language_info": {
   "codemirror_mode": {
    "name": "ipython",
    "version": 3
   },
   "file_extension": ".py",
   "mimetype": "text/x-python",
   "name": "python",
   "nbconvert_exporter": "python",
   "pygments_lexer": "ipython3",
   "version": "3.12.2"
  }
 },
 "nbformat": 4,
 "nbformat_minor": 2
}
