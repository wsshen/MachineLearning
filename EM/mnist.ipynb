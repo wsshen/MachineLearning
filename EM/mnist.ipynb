{
 "cells": [
  {
   "cell_type": "code",
   "execution_count": 1,
   "metadata": {},
   "outputs": [],
   "source": [
    "import os\n",
    "import matplotlib.pyplot as plt\n",
    "import numpy as np\n",
    "%matplotlib inline\n",
    "plt.style.use('ggplot')\n",
    "np.random.seed(1232)\n",
    "np.set_printoptions(formatter={'all':lambda x: '%.3f' % x})"
   ]
  },
  {
   "cell_type": "code",
   "execution_count": 2,
   "metadata": {},
   "outputs": [],
   "source": [
    "from scipy.optimize import minimize\n",
    "from scipy.stats import bernoulli, binom,uniform\n",
    "from scipy.special import comb\n",
    "from scipy.stats import binom, bernoulli"
   ]
  },
  {
   "cell_type": "code",
   "execution_count": 3,
   "metadata": {},
   "outputs": [
    {
     "name": "stderr",
     "output_type": "stream",
     "text": [
      "2024-09-13 18:00:14.732854: I tensorflow/core/platform/cpu_feature_guard.cc:193] This TensorFlow binary is optimized with oneAPI Deep Neural Network Library (oneDNN) to use the following CPU instructions in performance-critical operations:  AVX2 FMA\n",
      "To enable them in other operations, rebuild TensorFlow with the appropriate compiler flags.\n",
      "2024-09-13 18:00:14.950783: W tensorflow/stream_executor/platform/default/dso_loader.cc:64] Could not load dynamic library 'libcudart.so.11.0'; dlerror: libcudart.so.11.0: cannot open shared object file: No such file or directory; LD_LIBRARY_PATH: :/home/watson/.mujoco/mujoco210/bin:/usr/lib/nvidia\n",
      "2024-09-13 18:00:14.950819: I tensorflow/stream_executor/cuda/cudart_stub.cc:29] Ignore above cudart dlerror if you do not have a GPU set up on your machine.\n",
      "2024-09-13 18:00:15.024888: E tensorflow/stream_executor/cuda/cuda_blas.cc:2981] Unable to register cuBLAS factory: Attempting to register factory for plugin cuBLAS when one has already been registered\n",
      "2024-09-13 18:00:15.648414: W tensorflow/stream_executor/platform/default/dso_loader.cc:64] Could not load dynamic library 'libnvinfer.so.7'; dlerror: libnvinfer.so.7: cannot open shared object file: No such file or directory; LD_LIBRARY_PATH: :/home/watson/.mujoco/mujoco210/bin:/usr/lib/nvidia\n",
      "2024-09-13 18:00:15.648508: W tensorflow/stream_executor/platform/default/dso_loader.cc:64] Could not load dynamic library 'libnvinfer_plugin.so.7'; dlerror: libnvinfer_plugin.so.7: cannot open shared object file: No such file or directory; LD_LIBRARY_PATH: :/home/watson/.mujoco/mujoco210/bin:/usr/lib/nvidia\n",
      "2024-09-13 18:00:15.648516: W tensorflow/compiler/tf2tensorrt/utils/py_utils.cc:38] TF-TRT Warning: Cannot dlopen some TensorRT libraries. If you would like to use Nvidia GPU with TensorRT, please make sure the missing libraries mentioned above are installed properly.\n"
     ]
    }
   ],
   "source": [
    "from keras.datasets import mnist"
   ]
  },
  {
   "cell_type": "code",
   "execution_count": 4,
   "metadata": {},
   "outputs": [],
   "source": [
    "(train_X, train_y), (test_X, test_y) = mnist.load_data()\n",
    "train_X = np.where(train_X>0.5,1,0)"
   ]
  },
  {
   "cell_type": "code",
   "execution_count": 5,
   "metadata": {},
   "outputs": [
    {
     "name": "stdout",
     "output_type": "stream",
     "text": [
      "X_train: (60000, 28, 28)\n",
      "Y_train: (60000,)\n",
      "X_test:  (10000, 28, 28)\n",
      "Y_test:  (10000,)\n"
     ]
    }
   ],
   "source": [
    "print('X_train: ' + str(train_X.shape))\n",
    "print('Y_train: ' + str(train_y.shape))\n",
    "print('X_test:  '  + str(test_X.shape))\n",
    "print('Y_test:  '  + str(test_y.shape))"
   ]
  },
  {
   "cell_type": "code",
   "execution_count": 117,
   "metadata": {},
   "outputs": [],
   "source": [
    "n = 60\n",
    "m = n *3\n",
    "sz = 28\n",
    "\n",
    "tol = 0.01\n",
    "max_iter = 100\n",
    "phi = [0.33,0.33,0.33]\n",
    "elbo_old = -1000"
   ]
  },
  {
   "cell_type": "code",
   "execution_count": 118,
   "metadata": {},
   "outputs": [],
   "source": [
    "x = np.array([train_X[np.where(train_y==1)[0][0:n],:,:],\n",
    "                train_X[np.where(train_y==9)[0][0:n],:,:],\n",
    "                train_X[np.where(train_y==2)[0][0:n],:,:]])\n",
    "x = x.reshape(m,sz*sz,order='C')\n"
   ]
  },
  {
   "cell_type": "code",
   "execution_count": 91,
   "metadata": {},
   "outputs": [
    {
     "name": "stdout",
     "output_type": "stream",
     "text": [
      "(180, 28, 28)\n"
     ]
    },
    {
     "data": {
      "text/plain": [
       "<matplotlib.image.AxesImage at 0x7f15a22d1f30>"
      ]
     },
     "execution_count": 91,
     "metadata": {},
     "output_type": "execute_result"
    },
    {
     "data": {
      "image/png": "[encoded data removed]",
      "text/plain": [
       "<Figure size 640x480 with 1 Axes>"
      ]
     },
     "metadata": {},
     "output_type": "display_data"
    }
   ],
   "source": [
    "# for i in range(3):  \n",
    "#     ax = plt.subplot(1,3,i+1)\n",
    "#     ax.imshow(x[i,i], cmap=plt.get_cmap('gray'))\n",
    "# plt.show()\n",
    "dummy = x.reshape(m,sz,sz,order='C')\n",
    "print(dummy.shape)\n",
    "plt.imshow(dummy[60,:],cmap=plt.get_cmap('gray'))"
   ]
  },
  {
   "cell_type": "code",
   "execution_count": 119,
   "metadata": {},
   "outputs": [],
   "source": [
    "uni_model = uniform(loc=0.25,scale=0.5)\n",
    "thetas = np.array([uni_model.rvs(size=sz*sz),\n",
    "                   uni_model.rvs(size=sz*sz),\n",
    "                   uni_model.rvs(size=sz*sz)])\n",
    "dummy = np.sum(thetas,axis=1)\n",
    "thetas = thetas/dummy[:,np.newaxis]\n"
   ]
  },
  {
   "cell_type": "code",
   "execution_count": 77,
   "metadata": {},
   "outputs": [
    {
     "name": "stdout",
     "output_type": "stream",
     "text": [
      "(180, 784)\n",
      "(3, 784)\n"
     ]
    }
   ],
   "source": [
    "print(x.shape)\n",
    "print(thetas.shape)"
   ]
  },
  {
   "cell_type": "code",
   "execution_count": 87,
   "metadata": {},
   "outputs": [
    {
     "name": "stderr",
     "output_type": "stream",
     "text": [
      "/tmp/ipykernel_3718268/459035256.py:1: RuntimeWarning: divide by zero encountered in log\n",
      "  ll_1 =  np.log(thetas[0,:])*x + np.log(1-thetas[0,:])*(1-x) + np.log(phi[0])\n",
      "/tmp/ipykernel_3718268/459035256.py:1: RuntimeWarning: invalid value encountered in multiply\n",
      "  ll_1 =  np.log(thetas[0,:])*x + np.log(1-thetas[0,:])*(1-x) + np.log(phi[0])\n",
      "/tmp/ipykernel_3718268/459035256.py:2: RuntimeWarning: divide by zero encountered in log\n",
      "  ll_2 =  np.log(thetas[1,:])*x + np.log(1-thetas[1,:])*(1-x) + np.log(phi[1])\n",
      "/tmp/ipykernel_3718268/459035256.py:2: RuntimeWarning: invalid value encountered in multiply\n",
      "  ll_2 =  np.log(thetas[1,:])*x + np.log(1-thetas[1,:])*(1-x) + np.log(phi[1])\n",
      "/tmp/ipykernel_3718268/459035256.py:3: RuntimeWarning: divide by zero encountered in log\n",
      "  ll_3 =  np.log(thetas[2,:])*x + np.log(1-thetas[2,:])*(1-x) + np.log(phi[2])\n",
      "/tmp/ipykernel_3718268/459035256.py:3: RuntimeWarning: invalid value encountered in multiply\n",
      "  ll_3 =  np.log(thetas[2,:])*x + np.log(1-thetas[2,:])*(1-x) + np.log(phi[2])\n"
     ]
    }
   ],
   "source": [
    "ll_1 =  np.log(thetas[0,:])*x + np.log(1-thetas[0,:])*(1-x) + np.log(phi[0])\n",
    "ll_2 =  np.log(thetas[1,:])*x + np.log(1-thetas[1,:])*(1-x) + np.log(phi[1])\n",
    "ll_3 =  np.log(thetas[2,:])*x + np.log(1-thetas[2,:])*(1-x) + np.log(phi[2])\n",
    "\n",
    "ll_1 =  np.nan_to_num(ll_1)+0.0001\n",
    "ll_2 =  np.nan_to_num(ll_2)+0.0001\n",
    "ll_3 =  np.nan_to_num(ll_3)+0.0001\n",
    "\n",
    "denom = np.exp(ll_1) + np.exp(ll_2) + np.exp(ll_3)\n",
    "w_1 = np.exp(ll_1)/denom\n",
    "w_2 = np.exp(ll_2)/denom\n",
    "w_3 = np.exp(ll_3)/denom\n",
    "\n",
    "thetas[0,:] = np.sum(w_1 * x,axis=0)/np.sum(w_1,axis=0)\n",
    "thetas[1,:] = np.sum(w_2 * x,axis=0)/np.sum(w_2 ,axis=0)\n",
    "thetas[2,:] = np.sum(w_2 * x,axis=0)/np.sum(w_2,axis=0)\n",
    "phi[0] = np.sum(w_1)/m/784\n",
    "phi[1] = np.sum(w_2)/m/784\n",
    "phi[2] = np.sum(w_3)/m/784"
   ]
  },
  {
   "cell_type": "code",
   "execution_count": 120,
   "metadata": {},
   "outputs": [
    {
     "name": "stdout",
     "output_type": "stream",
     "text": [
      "Iteration: 0\n",
      "ELBO is: -314358.75108461047\n",
      "Iteration: 1\n",
      "ELBO is: 374820.0392942091\n",
      "Iteration: 2\n",
      "ELBO is: 374893.3614191095\n",
      "Iteration: 3\n",
      "ELBO is: 374895.0286316538\n",
      "Iteration: 4\n",
      "ELBO is: 374889.1196007774\n",
      "Iteration: 5\n",
      "ELBO is: 374883.45750494034\n",
      "Iteration: 6\n",
      "ELBO is: 374878.90440884535\n",
      "Iteration: 7\n",
      "ELBO is: 374875.3314806292\n",
      "Iteration: 8\n",
      "ELBO is: 374872.50979438407\n",
      "Iteration: 9\n",
      "ELBO is: 374870.250019859\n",
      "Iteration: 10\n",
      "ELBO is: 374868.4126135222\n",
      "Iteration: 11\n",
      "ELBO is: 374866.89705071255\n",
      "Iteration: 12\n",
      "ELBO is: 374865.63063475426\n"
     ]
    },
    {
     "name": "stderr",
     "output_type": "stream",
     "text": [
      "/tmp/ipykernel_3718268/241359230.py:3: RuntimeWarning: divide by zero encountered in log\n",
      "  ll_1 =  np.log(thetas[0,:])*x + np.log(1-thetas[0,:])*(1-x) + np.log(phi[0])\n",
      "/tmp/ipykernel_3718268/241359230.py:3: RuntimeWarning: invalid value encountered in multiply\n",
      "  ll_1 =  np.log(thetas[0,:])*x + np.log(1-thetas[0,:])*(1-x) + np.log(phi[0])\n",
      "/tmp/ipykernel_3718268/241359230.py:4: RuntimeWarning: divide by zero encountered in log\n",
      "  ll_2 =  np.log(thetas[1,:])*x + np.log(1-thetas[1,:])*(1-x) + np.log(phi[1])\n",
      "/tmp/ipykernel_3718268/241359230.py:4: RuntimeWarning: invalid value encountered in multiply\n",
      "  ll_2 =  np.log(thetas[1,:])*x + np.log(1-thetas[1,:])*(1-x) + np.log(phi[1])\n",
      "/tmp/ipykernel_3718268/241359230.py:5: RuntimeWarning: divide by zero encountered in log\n",
      "  ll_3 =  np.log(thetas[2,:])*x + np.log(1-thetas[2,:])*(1-x) + np.log(phi[2])\n",
      "/tmp/ipykernel_3718268/241359230.py:5: RuntimeWarning: invalid value encountered in multiply\n",
      "  ll_3 =  np.log(thetas[2,:])*x + np.log(1-thetas[2,:])*(1-x) + np.log(phi[2])\n"
     ]
    },
    {
     "name": "stdout",
     "output_type": "stream",
     "text": [
      "Iteration: 13\n",
      "ELBO is: 374864.5601032334\n",
      "Iteration: 14\n",
      "ELBO is: 374863.6458065278\n",
      "Iteration: 15\n",
      "ELBO is: 374862.8577470592\n",
      "Iteration: 16\n",
      "ELBO is: 374862.17287872906\n",
      "Iteration: 17\n",
      "ELBO is: 374861.57324501313\n",
      "Iteration: 18\n",
      "ELBO is: 374861.0446759708\n",
      "Iteration: 19\n",
      "ELBO is: 374860.5758614456\n",
      "Iteration: 20\n",
      "ELBO is: 374860.1576810175\n",
      "Iteration: 21\n",
      "ELBO is: 374859.78271194856\n",
      "Iteration: 22\n",
      "ELBO is: 374859.4448625263\n",
      "Iteration: 23\n",
      "ELBO is: 374859.1390951568\n",
      "Iteration: 24\n",
      "ELBO is: 374858.8612146707\n",
      "Iteration: 25\n",
      "ELBO is: 374858.60770469316\n",
      "Iteration: 26\n",
      "ELBO is: 374858.375599896\n",
      "Iteration: 27\n",
      "ELBO is: 374858.1623853683\n",
      "Iteration: 28\n",
      "ELBO is: 374857.9659166985\n",
      "Iteration: 29\n",
      "ELBO is: 374857.7843560363\n",
      "Iteration: 30\n",
      "ELBO is: 374857.6161205931\n",
      "Iteration: 31\n",
      "ELBO is: 374857.4598409008\n",
      "Iteration: 32\n",
      "ELBO is: 374857.31432678486\n",
      "Iteration: 33\n",
      "ELBO is: 374857.1785394784\n",
      "Iteration: 34\n",
      "ELBO is: 374857.05156865006\n",
      "Iteration: 35\n",
      "ELBO is: 374856.93261339335\n",
      "Iteration: 36\n",
      "ELBO is: 374856.8209664192\n",
      "Iteration: 37\n",
      "ELBO is: 374856.71600085753\n",
      "Iteration: 38\n",
      "ELBO is: 374856.61715918954\n",
      "Iteration: 39\n",
      "ELBO is: 374856.523943932\n",
      "Iteration: 40\n",
      "ELBO is: 374856.43590976286\n",
      "Iteration: 41\n",
      "ELBO is: 374856.35265684244\n",
      "Iteration: 42\n",
      "ELBO is: 374856.2738251263\n",
      "Iteration: 43\n",
      "ELBO is: 374856.1990895083\n",
      "Iteration: 44\n",
      "ELBO is: 374856.12815565354\n",
      "Iteration: 45\n",
      "ELBO is: 374856.0607564163\n",
      "Iteration: 46\n",
      "ELBO is: 374855.99664874654\n",
      "Iteration: 47\n",
      "ELBO is: 374855.93561101257\n",
      "Iteration: 48\n",
      "ELBO is: 374855.8774406748\n",
      "Iteration: 49\n",
      "ELBO is: 374855.8219522588\n",
      "Iteration: 50\n",
      "ELBO is: 374855.7689755852\n",
      "Iteration: 51\n",
      "ELBO is: 374855.71835421683\n",
      "Iteration: 52\n",
      "ELBO is: 374855.66994409426\n",
      "Iteration: 53\n",
      "ELBO is: 374855.6236123331\n",
      "Iteration: 54\n",
      "ELBO is: 374855.5792361617\n",
      "Iteration: 55\n",
      "ELBO is: 374855.53670197807\n",
      "Iteration: 56\n",
      "ELBO is: 374855.49590451416\n",
      "Iteration: 57\n",
      "ELBO is: 374855.45674608916\n",
      "Iteration: 58\n",
      "ELBO is: 374855.4191359445\n",
      "Iteration: 59\n",
      "ELBO is: 374855.3829896477\n",
      "Iteration: 60\n",
      "ELBO is: 374855.3482285582\n",
      "Iteration: 61\n",
      "ELBO is: 374855.31477934634\n",
      "Iteration: 62\n",
      "ELBO is: 374855.282573561\n",
      "Iteration: 63\n",
      "ELBO is: 374855.251547238\n",
      "Iteration: 64\n",
      "ELBO is: 374855.221640547\n",
      "Iteration: 65\n",
      "ELBO is: 374855.1927974708\n",
      "Iteration: 66\n",
      "ELBO is: 374855.16496551374\n",
      "Iteration: 67\n",
      "ELBO is: 374855.1380954382\n",
      "Iteration: 68\n",
      "ELBO is: 374855.1121410215\n",
      "Iteration: 69\n",
      "ELBO is: 374855.08705883764\n",
      "Iteration: 70\n",
      "ELBO is: 374855.06280805415\n",
      "Iteration: 71\n",
      "ELBO is: 374855.0393502489\n",
      "Iteration: 72\n",
      "ELBO is: 374855.0166492408\n",
      "Iteration: 73\n",
      "ELBO is: 374854.99467093486\n",
      "Iteration: 74\n",
      "ELBO is: 374854.97338317905\n",
      "Iteration: 75\n",
      "ELBO is: 374854.9527556332\n",
      "Iteration: 76\n",
      "ELBO is: 374854.9327596485\n",
      "Iteration: 77\n",
      "ELBO is: 374854.91336815484\n",
      "Iteration: 78\n",
      "ELBO is: 374854.89455555903\n",
      "Iteration: 79\n",
      "ELBO is: 374854.87629764795\n",
      "Iteration: 80\n",
      "ELBO is: 374854.8585715015\n",
      "Iteration: 81\n",
      "ELBO is: 374854.84135541046\n",
      "Iteration: 82\n",
      "ELBO is: 374854.8246287999\n",
      "Iteration: 83\n",
      "ELBO is: 374854.8083721605\n",
      "Iteration: 84\n",
      "ELBO is: 374854.7925669811\n",
      "Iteration: 85\n",
      "ELBO is: 374854.7771956897\n",
      "Iteration: 86\n",
      "ELBO is: 374854.7622415957\n",
      "Iteration: 87\n",
      "ELBO is: 374854.74768883805\n",
      "Iteration: 88\n",
      "ELBO is: 374854.7335223355\n",
      "Iteration: 89\n",
      "ELBO is: 374854.7197277413\n",
      "Iteration: 90\n",
      "ELBO is: 374854.70629140054\n",
      "Iteration: 91\n",
      "ELBO is: 374854.6932003098\n",
      "Iteration: 92\n",
      "ELBO is: 374854.6804420801\n",
      "Iteration: 93\n",
      "ELBO is: 374854.6680049026\n",
      "Iteration: 94\n",
      "ELBO is: 374854.65587751527\n",
      "Iteration: 95\n",
      "ELBO is: 374854.644049173\n",
      "Iteration: 96\n",
      "ELBO is: 374854.63250961836\n",
      "Iteration: 97\n",
      "ELBO is: 374854.62124905566\n",
      "Iteration: 98\n",
      "ELBO is: 374854.6102581256\n",
      "Iteration: 99\n",
      "ELBO is: 374854.5995278806\n"
     ]
    }
   ],
   "source": [
    "for i in range(max_iter):\n",
    "\n",
    "    ll_1 =  np.log(thetas[0,:])*x + np.log(1-thetas[0,:])*(1-x) + np.log(phi[0])\n",
    "    ll_2 =  np.log(thetas[1,:])*x + np.log(1-thetas[1,:])*(1-x) + np.log(phi[1])\n",
    "    ll_3 =  np.log(thetas[2,:])*x + np.log(1-thetas[2,:])*(1-x) + np.log(phi[2])\n",
    "\n",
    "    ll_1 =  np.nan_to_num(ll_1)+0.0001\n",
    "    ll_2 =  np.nan_to_num(ll_2)+0.0001\n",
    "    ll_3 =  np.nan_to_num(ll_3)+0.0001\n",
    "\n",
    "    denom = np.exp(ll_1) + np.exp(ll_2) + np.exp(ll_3)\n",
    "    w_1 = np.exp(ll_1)/denom\n",
    "    w_2 = np.exp(ll_2)/denom\n",
    "    w_3 = np.exp(ll_3)/denom\n",
    "\n",
    "    elbo = np.sum(w_1 * ll_1 + w_2 * ll_2 + w_3 * ll_3)\n",
    "\n",
    "    thetas[0,:] = np.sum(w_1 * x,axis=0)/np.sum(w_1 * m,axis=0)\n",
    "    thetas[1,:] = np.sum(w_2 * x,axis=0)/np.sum(w_2 * m,axis=0)\n",
    "    thetas[2,:] = np.sum(w_3 * x,axis=0)/np.sum(w_3 * m,axis=0)\n",
    "\n",
    "    phi[0] = np.sum(w_1)/m\n",
    "    phi[1] = np.sum(w_2)/m\n",
    "    phi[2] = np.sum(w_3)/m\n",
    "\n",
    "    print(f\"Iteration: {i}\")\n",
    "    print(f\"ELBO is: {elbo}\")\n",
    "    if np.abs(elbo-elbo_old) < tol:\n",
    "        break\n",
    "    elbo_old = elbo"
   ]
  },
  {
   "cell_type": "code",
   "execution_count": null,
   "metadata": {},
   "outputs": [],
   "source": [
    "ll_1 =  np.sum(np.log(thetas[0,:])*x + np.log(1-thetas[0,:])*(1-x),axis=1)+ np.log(phi[0])\n",
    "ll_2 =  np.sum(np.log(thetas[1,:])*x + np.log(1-thetas[1,:])*(1-x),axis=1)+ np.log(phi[1])\n",
    "ll_3 =  np.sum(np.log(thetas[2,:])*x + np.log(1-thetas[2,:])*(1-x),axis=1)+ np.log(phi[2])"
   ]
  },
  {
   "cell_type": "code",
   "execution_count": null,
   "metadata": {},
   "outputs": [],
   "source": [
    "denom = np.exp(ll_1) + np.exp(ll_2) + np.exp(ll_3)\n",
    "w_1 = np.exp(ll_1)/denom\n",
    "w_2 = np.exp(ll_2)/denom\n",
    "w_3 = np.exp(ll_3)/denom"
   ]
  },
  {
   "cell_type": "code",
   "execution_count": null,
   "metadata": {},
   "outputs": [],
   "source": [
    "print(thetas.shape)\n",
    "dummy = thetas.reshape(3,28,28)\n",
    "plt.imshow(dummy[0,:])"
   ]
  },
  {
   "cell_type": "code",
   "execution_count": 109,
   "metadata": {},
   "outputs": [
    {
     "data": {
      "text/plain": [
       "array([0.000, 0.000, 0.000, 0.000, 0.000, 0.000, 0.000, 0.000, 0.000,\n",
       "       0.000, 0.000, 0.000, 0.000, 0.000, 0.000, 0.000, 0.000, 0.000,\n",
       "       0.000, 0.000, 0.000, 0.000, 0.000, 0.000, 0.000, 0.000, 0.000,\n",
       "       0.000, 0.000, 0.000, 0.000, 0.000, 0.000, 0.000, 0.000, 0.000,\n",
       "       0.000, 0.000, 0.000, 0.000, 0.000, 0.000, 0.000, 0.000, 0.000,\n",
       "       0.000, 0.000, 0.000, 0.000, 0.000, 0.000, 0.000, 0.000, 0.000,\n",
       "       0.000, 0.000, 0.000, 0.000, 0.000, 0.000, 0.000, 0.000, 0.000,\n",
       "       0.000, 0.000, 0.000, 0.000, 0.000, 0.000, 0.000, 0.000, 0.000,\n",
       "       0.000, 0.000, 0.000, 0.000, 0.000, 0.000, 0.000, 0.000, 0.000,\n",
       "       0.000, 0.000, 0.000, 0.000, 0.000, 0.000, 0.000, 0.000, 0.000,\n",
       "       0.000, 0.000, 0.000, 0.000, 0.000, 0.000, 0.000, 0.000, 0.001,\n",
       "       0.001, 0.001, 0.001, 0.000, 0.000, 0.000, 0.000, 0.000, 0.000,\n",
       "       0.000, 0.000, 0.000, 0.000, 0.000, 0.000, 0.000, 0.000, 0.000,\n",
       "       0.000, 0.000, 0.000, 0.000, 0.000, 0.000, 0.001, 0.001, 0.002,\n",
       "       0.002, 0.002, 0.002, 0.002, 0.001, 0.001, 0.001, 0.000, 0.000,\n",
       "       0.000, 0.000, 0.000, 0.000, 0.000, 0.000, 0.000, 0.000, 0.000,\n",
       "       0.000, 0.000, 0.000, 0.000, 0.000, 0.001, 0.001, 0.002, 0.002,\n",
       "       0.002, 0.002, 0.003, 0.003, 0.002, 0.002, 0.002, 0.001, 0.001,\n",
       "       0.000, 0.000, 0.000, 0.000, 0.000, 0.000, 0.000, 0.000, 0.000,\n",
       "       0.000, 0.000, 0.000, 0.000, 0.000, 0.001, 0.001, 0.001, 0.002,\n",
       "       0.002, 0.003, 0.003, 0.004, 0.004, 0.003, 0.003, 0.002, 0.001,\n",
       "       0.001, 0.000, 0.000, 0.000, 0.000, 0.000, 0.000, 0.000, 0.000,\n",
       "       0.000, 0.000, 0.000, 0.000, 0.000, 0.000, 0.001, 0.001, 0.002,\n",
       "       0.003, 0.003, 0.003, 0.004, 0.004, 0.004, 0.004, 0.003, 0.003,\n",
       "       0.002, 0.001, 0.001, 0.000, 0.000, 0.000, 0.000, 0.000, 0.000,\n",
       "       0.000, 0.000, 0.000, 0.000, 0.000, 0.000, 0.001, 0.001, 0.001,\n",
       "       0.002, 0.003, 0.003, 0.003, 0.004, 0.004, 0.004, 0.004, 0.003,\n",
       "       0.003, 0.002, 0.001, 0.001, 0.000, 0.000, 0.000, 0.000, 0.000,\n",
       "       0.000, 0.000, 0.000, 0.000, 0.000, 0.000, 0.000, 0.001, 0.001,\n",
       "       0.002, 0.002, 0.003, 0.003, 0.003, 0.003, 0.003, 0.003, 0.003,\n",
       "       0.003, 0.003, 0.002, 0.001, 0.001, 0.000, 0.000, 0.000, 0.000,\n",
       "       0.000, 0.000, 0.000, 0.000, 0.000, 0.000, 0.000, 0.000, 0.001,\n",
       "       0.001, 0.002, 0.002, 0.002, 0.002, 0.002, 0.003, 0.003, 0.003,\n",
       "       0.004, 0.003, 0.003, 0.002, 0.001, 0.000, 0.000, 0.000, 0.000,\n",
       "       0.000, 0.000, 0.000, 0.000, 0.000, 0.000, 0.000, 0.000, 0.000,\n",
       "       0.001, 0.001, 0.001, 0.002, 0.002, 0.002, 0.002, 0.003, 0.003,\n",
       "       0.003, 0.004, 0.003, 0.003, 0.002, 0.001, 0.000, 0.000, 0.000,\n",
       "       0.000, 0.000, 0.000, 0.000, 0.000, 0.000, 0.000, 0.000, 0.000,\n",
       "       0.000, 0.001, 0.001, 0.002, 0.002, 0.001, 0.002, 0.003, 0.003,\n",
       "       0.004, 0.004, 0.004, 0.003, 0.002, 0.002, 0.001, 0.000, 0.000,\n",
       "       0.000, 0.000, 0.000, 0.000, 0.000, 0.000, 0.000, 0.000, 0.000,\n",
       "       0.000, 0.000, 0.001, 0.001, 0.002, 0.002, 0.002, 0.002, 0.004,\n",
       "       0.004, 0.005, 0.004, 0.004, 0.003, 0.002, 0.001, 0.001, 0.000,\n",
       "       0.000, 0.000, 0.000, 0.000, 0.000, 0.000, 0.000, 0.000, 0.000,\n",
       "       0.000, 0.000, 0.000, 0.001, 0.001, 0.002, 0.002, 0.003, 0.004,\n",
       "       0.005, 0.005, 0.005, 0.004, 0.004, 0.003, 0.002, 0.001, 0.000,\n",
       "       0.000, 0.000, 0.000, 0.000, 0.000, 0.000, 0.000, 0.000, 0.000,\n",
       "       0.000, 0.000, 0.000, 0.001, 0.001, 0.002, 0.002, 0.003, 0.003,\n",
       "       0.004, 0.005, 0.005, 0.005, 0.004, 0.003, 0.002, 0.001, 0.001,\n",
       "       0.000, 0.000, 0.000, 0.000, 0.000, 0.000, 0.000, 0.000, 0.000,\n",
       "       0.000, 0.000, 0.000, 0.000, 0.001, 0.001, 0.002, 0.002, 0.003,\n",
       "       0.003, 0.004, 0.004, 0.005, 0.005, 0.004, 0.003, 0.002, 0.001,\n",
       "       0.001, 0.001, 0.000, 0.000, 0.000, 0.000, 0.000, 0.000, 0.000,\n",
       "       0.000, 0.000, 0.000, 0.000, 0.001, 0.001, 0.001, 0.001, 0.002,\n",
       "       0.002, 0.003, 0.003, 0.004, 0.005, 0.004, 0.004, 0.003, 0.002,\n",
       "       0.001, 0.001, 0.001, 0.001, 0.001, 0.000, 0.000, 0.000, 0.000,\n",
       "       0.000, 0.000, 0.000, 0.000, 0.000, 0.001, 0.001, 0.001, 0.001,\n",
       "       0.002, 0.002, 0.003, 0.004, 0.004, 0.004, 0.004, 0.003, 0.003,\n",
       "       0.002, 0.001, 0.001, 0.001, 0.001, 0.001, 0.000, 0.000, 0.000,\n",
       "       0.000, 0.000, 0.000, 0.000, 0.000, 0.001, 0.001, 0.001, 0.001,\n",
       "       0.001, 0.002, 0.002, 0.003, 0.004, 0.004, 0.004, 0.004, 0.003,\n",
       "       0.002, 0.002, 0.001, 0.001, 0.001, 0.000, 0.001, 0.000, 0.000,\n",
       "       0.000, 0.000, 0.000, 0.000, 0.000, 0.000, 0.001, 0.001, 0.001,\n",
       "       0.002, 0.002, 0.002, 0.003, 0.003, 0.004, 0.004, 0.004, 0.003,\n",
       "       0.003, 0.002, 0.002, 0.001, 0.001, 0.001, 0.001, 0.000, 0.000,\n",
       "       0.000, 0.000, 0.000, 0.000, 0.000, 0.000, 0.000, 0.001, 0.001,\n",
       "       0.001, 0.002, 0.002, 0.002, 0.003, 0.003, 0.004, 0.003, 0.003,\n",
       "       0.003, 0.002, 0.002, 0.002, 0.001, 0.001, 0.000, 0.000, 0.000,\n",
       "       0.000, 0.000, 0.000, 0.000, 0.000, 0.000, 0.000, 0.000, 0.000,\n",
       "       0.001, 0.001, 0.001, 0.002, 0.002, 0.003, 0.003, 0.003, 0.003,\n",
       "       0.002, 0.002, 0.002, 0.001, 0.001, 0.001, 0.001, 0.001, 0.000,\n",
       "       0.000, 0.000, 0.000, 0.000, 0.000, 0.000, 0.000, 0.000, 0.000,\n",
       "       0.000, 0.000, 0.000, 0.001, 0.001, 0.002, 0.002, 0.002, 0.002,\n",
       "       0.002, 0.002, 0.002, 0.001, 0.001, 0.001, 0.000, 0.000, 0.000,\n",
       "       0.000, 0.000, 0.000, 0.000, 0.000, 0.000, 0.000, 0.000, 0.000,\n",
       "       0.000, 0.000, 0.000, 0.000, 0.000, 0.000, 0.001, 0.001, 0.001,\n",
       "       0.001, 0.001, 0.001, 0.001, 0.001, 0.001, 0.001, 0.000, 0.000,\n",
       "       0.000, 0.000, 0.000, 0.000, 0.000, 0.000, 0.000, 0.000, 0.000,\n",
       "       0.000, 0.000, 0.000, 0.000, 0.000, 0.000, 0.000, 0.000, 0.001,\n",
       "       0.001, 0.001, 0.000, 0.001, 0.000, 0.001, 0.001, 0.000, 0.000,\n",
       "       0.000, 0.000, 0.000, 0.000, 0.000, 0.000, 0.000, 0.000, 0.000,\n",
       "       0.000, 0.000, 0.000, 0.000, 0.000, 0.000, 0.000, 0.000, 0.000,\n",
       "       0.000, 0.000, 0.000, 0.000, 0.000, 0.000, 0.000, 0.000, 0.000,\n",
       "       0.000, 0.000, 0.000, 0.000, 0.000, 0.000, 0.000, 0.000, 0.000,\n",
       "       0.000, 0.000, 0.000, 0.000, 0.000, 0.000, 0.000, 0.000, 0.000,\n",
       "       0.000, 0.000, 0.000, 0.000, 0.000, 0.000, 0.000, 0.000, 0.000,\n",
       "       0.000, 0.000, 0.000, 0.000, 0.000, 0.000, 0.000, 0.000, 0.000,\n",
       "       0.000])"
      ]
     },
     "execution_count": 109,
     "metadata": {},
     "output_type": "execute_result"
    }
   ],
   "source": [
    "thetas[0]"
   ]
  },
  {
   "cell_type": "code",
   "execution_count": 121,
   "metadata": {},
   "outputs": [
    {
     "data": {
      "text/plain": [
       "<matplotlib.image.AxesImage at 0x7f15a0b83ca0>"
      ]
     },
     "execution_count": 121,
     "metadata": {},
     "output_type": "execute_result"
    },
    {
     "data": {
      "image/png": "[encoded data removed]",
      "text/plain": [
       "<Figure size 640x480 with 1 Axes>"
      ]
     },
     "metadata": {},
     "output_type": "display_data"
    }
   ],
   "source": [
    "test = thetas.reshape(3,28,28)\n",
    "plt.imshow(test[2,:],cmap=plt.get_cmap('gray'))"
   ]
  },
  {
   "cell_type": "code",
   "execution_count": null,
   "metadata": {},
   "outputs": [],
   "source": []
  }
 ],
 "metadata": {
  "kernelspec": {
   "display_name": "transformer",
   "language": "python",
   "name": "python3"
  },
  "language_info": {
   "codemirror_mode": {
    "name": "ipython",
    "version": 3
   },
   "file_extension": ".py",
   "mimetype": "text/x-python",
   "name": "python",
   "nbconvert_exporter": "python",
   "pygments_lexer": "ipython3",
   "version": "3.10.13"
  }
 },
 "nbformat": 4,
 "nbformat_minor": 2
}
