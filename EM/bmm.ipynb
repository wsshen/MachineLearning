{
 "cells": [
  {
   "cell_type": "code",
   "execution_count": 1,
   "metadata": {},
   "outputs": [],
   "source": [
    "import os\n",
    "import sys\n",
    "import glob\n",
    "import matplotlib.pyplot as plt\n",
    "import numpy as np\n",
    "import pandas as pd\n",
    "%matplotlib inline\n",
    "plt.style.use('ggplot')\n",
    "np.random.seed(1232)\n",
    "\n",
    "np.set_printoptions(formatter={'all':lambda x: '%.3f' % x})"
   ]
  },
  {
   "cell_type": "code",
   "execution_count": 2,
   "metadata": {},
   "outputs": [
    {
     "name": "stderr",
     "output_type": "stream",
     "text": [
      "/tmp/ipykernel_3628407/963617586.py:2: DeprecationWarning: numpy.core.umath_tests is an internal NumPy module and should not be imported. It will be removed in a future NumPy release.\n",
      "  from numpy.core.umath_tests import matrix_multiply as mm\n"
     ]
    }
   ],
   "source": [
    "from IPython.display import Image\n",
    "from numpy.core.umath_tests import matrix_multiply as mm"
   ]
  },
  {
   "cell_type": "code",
   "execution_count": 3,
   "metadata": {},
   "outputs": [],
   "source": [
    "from scipy.optimize import minimize\n",
    "from scipy.stats import bernoulli, binom\n",
    "from scipy.special import comb\n",
    "from scipy.stats import binom, bernoulli\n"
   ]
  },
  {
   "cell_type": "code",
   "execution_count": 4,
   "metadata": {},
   "outputs": [],
   "source": [
    "# def neg_loglik(thetas, n, xs, zs):\n",
    "#     return -np.sum([binom(n, thetas[z]).logpmf(x) for (x, z) in zip(xs, zs)])"
   ]
  },
  {
   "cell_type": "code",
   "execution_count": 5,
   "metadata": {},
   "outputs": [],
   "source": [
    "# m = 10\n",
    "# theta_A = 0.8\n",
    "# theta_B = 0.3\n",
    "# theta_0 = [theta_A, theta_B]\n",
    "\n",
    "# coin_A = bernoulli(theta_A)\n",
    "# coin_B = bernoulli(theta_B)\n",
    "\n",
    "# xs = map(sum, [coin_A.rvs(m), coin_A.rvs(m), coin_B.rvs(m), coin_A.rvs(m), coin_B.rvs(m)])\n",
    "# zs = [0, 0, 1, 0, 1]"
   ]
  },
  {
   "cell_type": "code",
   "execution_count": 6,
   "metadata": {},
   "outputs": [],
   "source": [
    "# xs = np.array(list(xs))\n",
    "# print(xs)\n",
    "# ml_A = np.sum(xs[[0,1,3]])/(3.0*m)\n",
    "# ml_B = np.sum(xs[[2,4]])/(2.0*m)"
   ]
  },
  {
   "cell_type": "code",
   "execution_count": 7,
   "metadata": {},
   "outputs": [],
   "source": [
    "# bnds = [(0,1), (0,1)]\n",
    "# minimize(neg_loglik, [0.5, 0.5], args=(m, xs, zs),\n",
    "#          bounds=bnds, method='tnc', options={'maxiter': 100})"
   ]
  },
  {
   "cell_type": "code",
   "execution_count": 8,
   "metadata": {},
   "outputs": [],
   "source": [
    "# xs = np.array([(5,5), (9,1), (8,2), (4,6), (7,3)])\n",
    "# thetas = np.array([[0.6, 0.4], [0.5, 0.5]])\n",
    "\n",
    "# tol = 0.01\n",
    "# max_iter = 100\n",
    "\n",
    "# ll_old = 0\n",
    "# for i in range(max_iter):\n",
    "#     ws_A = []                                                \n",
    "#     ws_B = []\n",
    "\n",
    "#     vs_A = []\n",
    "#     vs_B = []\n",
    "\n",
    "#     ll_new = 0\n",
    "\n",
    "#     # E-step: calculate probability distributions over possible completions\n",
    "#     for x in xs:\n",
    "\n",
    "#         # multinomial (binomial) log likelihood\n",
    "#         ll_A = np.sum([x*np.log(thetas[0])])\n",
    "#         ll_B = np.sum([x*np.log(thetas[1])])\n",
    "\n",
    "#         # [EQN 1]\n",
    "#         denom = np.exp(ll_A) + np.exp(ll_B)\n",
    "#         w_A = np.exp(ll_A)/denom\n",
    "#         w_B = np.exp(ll_B)/denom\n",
    "\n",
    "#         ws_A.append(w_A)\n",
    "#         ws_B.append(w_B)\n",
    "\n",
    "#         # used for calculating theta\n",
    "#         vs_A.append(np.dot(w_A, x))\n",
    "#         vs_B.append(np.dot(w_B, x))\n",
    "\n",
    "#         # update complete log likelihood\n",
    "#         ll_new += w_A * ll_A + w_B * ll_B\n",
    "\n",
    "#     # M-step: update values for parameters given current distribution\n",
    "#     # [EQN 2]\n",
    "#     thetas[0] = np.sum(vs_A, 0)/np.sum(vs_A)\n",
    "#     thetas[1] = np.sum(vs_B, 0)/np.sum(vs_B)\n",
    "#     # print distribution of z for each x and current parameter estimate\n",
    "\n",
    "#     print(\"Iteration: %d\" % (i+1))\n",
    "#     print(\"theta_A = %.2f, theta_B = %.2f, ll = %.2f\" % (thetas[0,0], thetas[1,0], ll_new))\n",
    "\n",
    "#     if np.abs(ll_new - ll_old) < tol:\n",
    "#         break\n",
    "#     ll_old = ll_new"
   ]
  },
  {
   "cell_type": "code",
   "execution_count": 1,
   "metadata": {},
   "outputs": [
    {
     "ename": "NameError",
     "evalue": "name 'bernoulli' is not defined",
     "output_type": "error",
     "traceback": [
      "\u001b[0;31m---------------------------------------------------------------------------\u001b[0m",
      "\u001b[0;31mNameError\u001b[0m                                 Traceback (most recent call last)",
      "Cell \u001b[0;32mIn[1], line 6\u001b[0m\n\u001b[1;32m      3\u001b[0m theta_B \u001b[38;5;241m=\u001b[39m \u001b[38;5;241m0.3\u001b[39m\n\u001b[1;32m      4\u001b[0m theta_0 \u001b[38;5;241m=\u001b[39m [theta_A, theta_B]\n\u001b[0;32m----> 6\u001b[0m coin_A \u001b[38;5;241m=\u001b[39m \u001b[43mbernoulli\u001b[49m(theta_A)\n\u001b[1;32m      7\u001b[0m coin_B \u001b[38;5;241m=\u001b[39m bernoulli(theta_B)\n\u001b[1;32m      9\u001b[0m xs \u001b[38;5;241m=\u001b[39m \u001b[38;5;28mmap\u001b[39m(\u001b[38;5;28msum\u001b[39m, [coin_A\u001b[38;5;241m.\u001b[39mrvs(m)])\n",
      "\u001b[0;31mNameError\u001b[0m: name 'bernoulli' is not defined"
     ]
    }
   ],
   "source": [
    "m = 20\n",
    "theta_A = 0.8\n",
    "theta_B = 0.3\n",
    "theta_0 = [theta_A, theta_B]\n",
    "\n",
    "coin_A = bernoulli(theta_A)\n",
    "coin_B = bernoulli(theta_B)\n",
    "\n",
    "xs = map(sum, [coin_A.rvs(m)])\n",
    "xs = np.array(list(xs))\n",
    "\n",
    "# xs = np.array([5, 9, 8, 4, 7])\n",
    "thetas = np.array([0.6, 0.5])\n",
    "\n",
    "tol = 0.01\n",
    "max_iter = 100\n",
    "phi = [0.5,0.5]\n",
    "elbo_old = -1000"
   ]
  },
  {
   "cell_type": "code",
   "execution_count": 10,
   "metadata": {},
   "outputs": [
    {
     "data": {
      "text/plain": [
       "array([16.000])"
      ]
     },
     "execution_count": 10,
     "metadata": {},
     "output_type": "execute_result"
    }
   ],
   "source": [
    "xs"
   ]
  },
  {
   "cell_type": "code",
   "execution_count": 11,
   "metadata": {},
   "outputs": [],
   "source": [
    "# for i in range(max_iter):\n",
    "\n",
    "#     ps_1 = np.log(thetas[0])*xs + np.log(1-thetas[0])*(m-xs) \n",
    "#     ps_2 = np.log(thetas[1])*xs + np.log(1-thetas[1])*(m-xs) \n",
    "\n",
    "#     # ps_1 = comb(m,xs)* (thetas[0]**xs) * (1-thetas[0])**(m-xs) * phi[0]\n",
    "#     # ps_2 = comb(m,xs)* (thetas[1]**xs) * (1-thetas[1])**(m-xs) * phi[1]\n",
    "\n",
    "#     # w_1 = ps_1/(ps_1+ps_2)\n",
    "#     # w_2 = ps_2/(ps_1+ps_2)\n",
    "\n",
    "#     denom = np.exp(ps_1) + np.exp(ps_2)\n",
    "#     w_1 = np.exp(ps_1)/denom\n",
    "#     w_2 = np.exp(ps_2)/denom\n",
    "\n",
    "#     # elbo = np.sum(w_1 * np.log(ps_1/w_1) + w_2 * np.log(ps_2/w_2))\n",
    "#     elbo = np.sum(w_1 * ps_1 + w_2 * ps_2)\n",
    "\n",
    "\n",
    "#     # thetas[0] = np.sum(w_1 * xs)/np.sum(w_1 * m)\n",
    "#     # thetas[1] = np.sum(w_2 * xs)/np.sum(w_2 * m)\n",
    "\n",
    "\n",
    "#     thetas[0] = np.sum(w_1 * xs)/np.sum(w_1 * m)\n",
    "#     thetas[1] = np.sum(w_2 * xs)/np.sum(w_2 * m)\n",
    "#     # phi[0] = np.sum(w_1)/5\n",
    "#     # phi[1] = np.sum(w_2)/5\n",
    "\n",
    "#     print(f\"Iteration: {i}\")\n",
    "#     print(f\"ELBO is: {elbo}\")\n",
    "#     if np.abs(elbo-elbo_old) < tol:\n",
    "#         break\n",
    "#     elbo_old = elbo"
   ]
  },
  {
   "cell_type": "code",
   "execution_count": 12,
   "metadata": {},
   "outputs": [
    {
     "name": "stdout",
     "output_type": "stream",
     "text": [
      "Iteration: 0\n",
      "ELBO is: -12.40748948068055\n",
      "Iteration: 1\n",
      "ELBO is: -10.008048470763757\n",
      "Iteration: 2\n",
      "ELBO is: -10.008048470763757\n"
     ]
    }
   ],
   "source": [
    "for i in range(max_iter):\n",
    "\n",
    "    ps_1 =  (thetas[0]**xs) * (1-thetas[0])**(m-xs) * phi[0]\n",
    "    ps_2 =  (thetas[1]**xs) * (1-thetas[1])**(m-xs) * phi[1]\n",
    "\n",
    "    w_1 = ps_1/(ps_1+ps_2)\n",
    "    w_2 = ps_2/(ps_1+ps_2)\n",
    "\n",
    "    elbo = np.sum(w_1 * np.log(ps_1/w_1) + w_2 * np.log(ps_2/w_2))\n",
    "\n",
    "    thetas[0] = np.sum(w_1 * xs)/np.sum(w_1 * m)\n",
    "    thetas[1] = np.sum(w_2 * xs)/np.sum(w_2 * m)\n",
    "\n",
    "    phi[0] = np.sum(w_1)/1\n",
    "    phi[1] = np.sum(w_2)/1\n",
    "\n",
    "    print(f\"Iteration: {i}\")\n",
    "    print(f\"ELBO is: {elbo}\")\n",
    "    if np.abs(elbo-elbo_old) < tol:\n",
    "        break\n",
    "    else:\n",
    "        elbo_old = elbo"
   ]
  },
  {
   "cell_type": "code",
   "execution_count": 13,
   "metadata": {},
   "outputs": [
    {
     "name": "stdout",
     "output_type": "stream",
     "text": [
      "thetas is: [0.800 0.800]\n",
      "phi is: [0.883352803131564, 0.11664719686843603]\n",
      "w_1 is: [0.883]\n"
     ]
    }
   ],
   "source": [
    "print(f\"thetas is: {thetas}\")\n",
    "print(f\"phi is: {phi}\")\n",
    "print(f\"w_1 is: {w_1}\")"
   ]
  },
  {
   "cell_type": "code",
   "execution_count": 14,
   "metadata": {},
   "outputs": [
    {
     "name": "stdout",
     "output_type": "stream",
     "text": [
      "Iteration: 0\n",
      "ELBO is: -3.3657413605273\n",
      "Iteration: 1\n",
      "ELBO is: -3.3405416908834207\n",
      "Iteration: 2\n",
      "ELBO is: -3.3405393479870726\n"
     ]
    }
   ],
   "source": [
    "xs = np.array([(1,0), (1,0), (0,1), (0,1), (1,0)])\n",
    "thetas = np.array([[0.6, 0.4], [0.5, 0.5]])\n",
    "\n",
    "tol = 0.01\n",
    "max_iter = 100\n",
    "\n",
    "ll_old = -np.infty\n",
    "for i in range(max_iter):\n",
    "    ll_A = np.sum(xs * np.log(thetas[0]), axis=1)\n",
    "    ll_B = np.sum(xs * np.log(thetas[1]), axis=1)\n",
    "    denom = np.exp(ll_A) + np.exp(ll_B)\n",
    "    w_A = np.exp(ll_A)/denom\n",
    "    w_B = np.exp(ll_B)/denom\n",
    "\n",
    "    vs_A = w_A[:, None] * xs\n",
    "    vs_B = w_B[:, None] * xs\n",
    "\n",
    "    thetas[0] = np.sum(vs_A, 0)/np.sum(vs_A)\n",
    "    thetas[1] = np.sum(vs_B, 0)/np.sum(vs_B)\n",
    "\n",
    "    ll_new = w_A.dot(ll_A) + w_B.dot(ll_B)\n",
    "\n",
    "    print(f\"Iteration: {i}\")\n",
    "    print(f\"ELBO is: {ll_new}\")\n",
    "\n",
    "    if np.abs(ll_new - ll_old) < tol:\n",
    "        break\n",
    "    ll_old = ll_new"
   ]
  },
  {
   "cell_type": "code",
   "execution_count": null,
   "metadata": {},
   "outputs": [],
   "source": []
  }
 ],
 "metadata": {
  "kernelspec": {
   "display_name": "ml",
   "language": "python",
   "name": "python3"
  },
  "language_info": {
   "codemirror_mode": {
    "name": "ipython",
    "version": 3
   },
   "file_extension": ".py",
   "mimetype": "text/x-python",
   "name": "python",
   "nbconvert_exporter": "python",
   "pygments_lexer": "ipython3",
   "version": "3.12.2"
  }
 },
 "nbformat": 4,
 "nbformat_minor": 2
}
